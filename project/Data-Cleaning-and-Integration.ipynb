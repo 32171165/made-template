{
 "cells": [
  {
   "cell_type": "markdown",
   "metadata": {
    "tags": []
   },
   "source": [
    "# Exercise 2: Data Cleaning and Integration\n",
    "\n",
    "We again require several libraries."
   ]
  },
  {
   "cell_type": "code",
   "execution_count": 46,
   "metadata": {
    "tags": [
     "specification"
    ]
   },
   "outputs": [],
   "source": [
    "# Import the required libraries\n",
    "import tempfile\n",
    "import sqlite3\n",
    "import os\n",
    "import urllib.request\n",
    "import scipy.stats\n",
    "import pandas as pd"
   ]
  },
  {
   "cell_type": "markdown",
   "metadata": {
    "tags": [
     "specification"
    ]
   },
   "source": [
    "Once again, we rely on the AdventureWorks database, but this time we load different data into our `DataFrames`."
   ]
  },
  {
   "cell_type": "code",
   "execution_count": 47,
   "metadata": {
    "tags": [
     "specification"
    ]
   },
   "outputs": [],
   "source": [
    "# Create a temporary directory\n",
    "dataset_folder = tempfile.mkdtemp()\n",
    "\n",
    "# Build path to database\n",
    "database_path = os.path.join(dataset_folder, \"adventure-works.db\")\n",
    "\n",
    "# Get the database\n",
    "urllib.request.urlretrieve(\n",
    "    \"https://github.com/FAU-CS6/KDD-Databases/raw/main/AdventureWorks/adventure-works.db\",\n",
    "    database_path,\n",
    ")\n",
    "\n",
    "# Open connection to the adventure-works.db\n",
    "connection = sqlite3.connect(database_path)"
   ]
  },
  {
   "cell_type": "code",
   "execution_count": 48,
   "metadata": {
    "tags": [
     "specification"
    ]
   },
   "outputs": [
    {
     "data": {
      "text/plain": [
       "<sqlite3.Cursor at 0x1f782320140>"
      ]
     },
     "execution_count": 48,
     "metadata": {},
     "output_type": "execute_result"
    }
   ],
   "source": [
    "# Modify the database to contain dirty data\n",
    "cursor = connection.cursor()\n",
    "cursor.executescript(\n",
    "    \"UPDATE Person SET LastName = 'Doe';\"\n",
    "    \"UPDATE Employee SET HireDate = STRFTIME('%Y-%m-%d %H:%M:%S', HireDate);\"\n",
    "    \"UPDATE Employee SET BirthDate = STRFTIME('%Y-%m-%d %H:%M:%S', BirthDate);\"\n",
    "    \"UPDATE Employee SET Gender = 'Male' WHERE Gender = 'M' AND NationalIDNumber LIKE \\\"%8\\\";\"\n",
    "    \"UPDATE Employee SET Gender = 'Female' WHERE Gender = 'F' AND NationalIDNumber LIKE \\\"%7%\\\";\"\n",
    "    \"UPDATE Employee SET BirthDate = STRFTIME('%Y-%m-%d', BirthDate) WHERE NationalIDNumber LIKE \\\"%2%\\\";\"\n",
    "    \"UPDATE Employee SET SickLeaveHours = 2306 WHERE BusinessEntityID = 10;\"\n",
    "    \"UPDATE Employee SET VacationHours = -12 WHERE BusinessEntityID = 21;\"\n",
    "    \"UPDATE Person SET LastName = 'Doe';\"\n",
    "    \"UPDATE Employee SET JobTitle = 'None' WHERE NationalIDNumber LIKE \\\"%1\\\";\"\n",
    "    \"UPDATE Employee SET CurrentFlag = 0 WHERE NationalIDNumber = 658797903 OR NationalIDNumber = 974026903;\"\n",
    "    \"UPDATE Employee SET HireDate = STRFTIME('%Y-%m-%d %H:%M:%S', DATE(BirthDate, '-10 year')) \"\n",
    "    'WHERE NationalIDNumber LIKE \"2%\";'\n",
    ")"
   ]
  },
  {
   "cell_type": "code",
   "execution_count": 49,
   "metadata": {
    "tags": [
     "specification"
    ]
   },
   "outputs": [],
   "source": [
    "# Create the dirty DataFrame(s)\n",
    "# Employee DataFrame\n",
    "dirty_employee_df = pd.read_sql_query(\n",
    "    \"SELECT NationalIDNumber, LoginID, OrganizationNode, JobTitle, BirthDate, MaritalStatus, Gender,\"\n",
    "    \"HireDate, SalariedFlag, VacationHours, SickLeaveHours, CurrentFlag, PersonType, NameStyle, Title,\"\n",
    "    \"FirstName, MiddleName, LastName, Suffix, EmailPromotion, AdditionalContactInfo, Demographics \"\n",
    "    \"FROM Employee \"\n",
    "    \"JOIN Person ON Employee.BusinessEntityID = Person.BusinessEntityID\",\n",
    "    connection,\n",
    "    index_col=\"NationalIDNumber\",\n",
    ")"
   ]
  },
  {
   "cell_type": "markdown",
   "metadata": {
    "tags": [
     "specification"
    ]
   },
   "source": [
    "Recall that we did not look for dirty data in exercise 1. \n",
    "\n",
    "Real world data rarely contains data without some inconsistencies or noise. For this reason, we will now look at the `dirty_employee_df` that contains obvious inconsistencies.\n",
    "\n",
    "<div class=\"alert alert-block alert-info\">\n",
    "\n",
    "**Task 1:** \n",
    "\n",
    "Use the skills you learned to familiarize yourself with the `dirty_employee_df`. In doing so, try to identify as many problems as possible with the dataset at hand.\n",
    "\n",
    "</div>"
   ]
  },
  {
   "cell_type": "code",
   "execution_count": 50,
   "metadata": {
    "tags": [
     "student"
    ]
   },
   "outputs": [
    {
     "data": {
      "text/html": [
       "<div>\n",
       "<style scoped>\n",
       "    .dataframe tbody tr th:only-of-type {\n",
       "        vertical-align: middle;\n",
       "    }\n",
       "\n",
       "    .dataframe tbody tr th {\n",
       "        vertical-align: top;\n",
       "    }\n",
       "\n",
       "    .dataframe thead th {\n",
       "        text-align: right;\n",
       "    }\n",
       "</style>\n",
       "<table border=\"1\" class=\"dataframe\">\n",
       "  <thead>\n",
       "    <tr style=\"text-align: right;\">\n",
       "      <th></th>\n",
       "      <th>LoginID</th>\n",
       "      <th>OrganizationNode</th>\n",
       "      <th>JobTitle</th>\n",
       "      <th>BirthDate</th>\n",
       "      <th>MaritalStatus</th>\n",
       "      <th>Gender</th>\n",
       "      <th>HireDate</th>\n",
       "      <th>SalariedFlag</th>\n",
       "      <th>VacationHours</th>\n",
       "      <th>SickLeaveHours</th>\n",
       "      <th>...</th>\n",
       "      <th>PersonType</th>\n",
       "      <th>NameStyle</th>\n",
       "      <th>Title</th>\n",
       "      <th>FirstName</th>\n",
       "      <th>MiddleName</th>\n",
       "      <th>LastName</th>\n",
       "      <th>Suffix</th>\n",
       "      <th>EmailPromotion</th>\n",
       "      <th>AdditionalContactInfo</th>\n",
       "      <th>Demographics</th>\n",
       "    </tr>\n",
       "    <tr>\n",
       "      <th>NationalIDNumber</th>\n",
       "      <th></th>\n",
       "      <th></th>\n",
       "      <th></th>\n",
       "      <th></th>\n",
       "      <th></th>\n",
       "      <th></th>\n",
       "      <th></th>\n",
       "      <th></th>\n",
       "      <th></th>\n",
       "      <th></th>\n",
       "      <th></th>\n",
       "      <th></th>\n",
       "      <th></th>\n",
       "      <th></th>\n",
       "      <th></th>\n",
       "      <th></th>\n",
       "      <th></th>\n",
       "      <th></th>\n",
       "      <th></th>\n",
       "      <th></th>\n",
       "      <th></th>\n",
       "    </tr>\n",
       "  </thead>\n",
       "  <tbody>\n",
       "    <tr>\n",
       "      <th>295847284</th>\n",
       "      <td>adventure-works\\ken0</td>\n",
       "      <td>None</td>\n",
       "      <td>Chief Executive Officer</td>\n",
       "      <td>1969-01-29</td>\n",
       "      <td>S</td>\n",
       "      <td>M</td>\n",
       "      <td>1959-01-29 00:00:00</td>\n",
       "      <td>1</td>\n",
       "      <td>99</td>\n",
       "      <td>69</td>\n",
       "      <td>...</td>\n",
       "      <td>EM</td>\n",
       "      <td>0</td>\n",
       "      <td>None</td>\n",
       "      <td>Ken</td>\n",
       "      <td>J</td>\n",
       "      <td>Doe</td>\n",
       "      <td>None</td>\n",
       "      <td>0</td>\n",
       "      <td>None</td>\n",
       "      <td>&lt;IndividualSurvey xmlns=\"http://schemas.micros...</td>\n",
       "    </tr>\n",
       "    <tr>\n",
       "      <th>245797967</th>\n",
       "      <td>adventure-works\\terri0</td>\n",
       "      <td>b'X'</td>\n",
       "      <td>Vice President of Engineering</td>\n",
       "      <td>1971-08-01</td>\n",
       "      <td>S</td>\n",
       "      <td>Female</td>\n",
       "      <td>1961-08-01 00:00:00</td>\n",
       "      <td>1</td>\n",
       "      <td>1</td>\n",
       "      <td>20</td>\n",
       "      <td>...</td>\n",
       "      <td>EM</td>\n",
       "      <td>0</td>\n",
       "      <td>None</td>\n",
       "      <td>Terri</td>\n",
       "      <td>Lee</td>\n",
       "      <td>Doe</td>\n",
       "      <td>None</td>\n",
       "      <td>1</td>\n",
       "      <td>None</td>\n",
       "      <td>&lt;IndividualSurvey xmlns=\"http://schemas.micros...</td>\n",
       "    </tr>\n",
       "    <tr>\n",
       "      <th>509647174</th>\n",
       "      <td>adventure-works\\roberto0</td>\n",
       "      <td>b'Z\\xc0'</td>\n",
       "      <td>Engineering Manager</td>\n",
       "      <td>1974-11-12 00:00:00</td>\n",
       "      <td>M</td>\n",
       "      <td>M</td>\n",
       "      <td>2007-11-11 00:00:00</td>\n",
       "      <td>1</td>\n",
       "      <td>2</td>\n",
       "      <td>21</td>\n",
       "      <td>...</td>\n",
       "      <td>EM</td>\n",
       "      <td>0</td>\n",
       "      <td>None</td>\n",
       "      <td>Roberto</td>\n",
       "      <td>None</td>\n",
       "      <td>Doe</td>\n",
       "      <td>None</td>\n",
       "      <td>0</td>\n",
       "      <td>None</td>\n",
       "      <td>&lt;IndividualSurvey xmlns=\"http://schemas.micros...</td>\n",
       "    </tr>\n",
       "    <tr>\n",
       "      <th>112457891</th>\n",
       "      <td>adventure-works\\rob0</td>\n",
       "      <td>b'Z\\xd6'</td>\n",
       "      <td>None</td>\n",
       "      <td>1974-12-23</td>\n",
       "      <td>S</td>\n",
       "      <td>M</td>\n",
       "      <td>2007-12-05 00:00:00</td>\n",
       "      <td>0</td>\n",
       "      <td>48</td>\n",
       "      <td>80</td>\n",
       "      <td>...</td>\n",
       "      <td>EM</td>\n",
       "      <td>0</td>\n",
       "      <td>None</td>\n",
       "      <td>Rob</td>\n",
       "      <td>None</td>\n",
       "      <td>Doe</td>\n",
       "      <td>None</td>\n",
       "      <td>0</td>\n",
       "      <td>None</td>\n",
       "      <td>&lt;IndividualSurvey xmlns=\"http://schemas.micros...</td>\n",
       "    </tr>\n",
       "    <tr>\n",
       "      <th>695256908</th>\n",
       "      <td>adventure-works\\gail0</td>\n",
       "      <td>b'Z\\xda'</td>\n",
       "      <td>Design Engineer</td>\n",
       "      <td>1952-09-27</td>\n",
       "      <td>M</td>\n",
       "      <td>F</td>\n",
       "      <td>2008-01-06 00:00:00</td>\n",
       "      <td>1</td>\n",
       "      <td>5</td>\n",
       "      <td>22</td>\n",
       "      <td>...</td>\n",
       "      <td>EM</td>\n",
       "      <td>0</td>\n",
       "      <td>Ms.</td>\n",
       "      <td>Gail</td>\n",
       "      <td>A</td>\n",
       "      <td>Doe</td>\n",
       "      <td>None</td>\n",
       "      <td>0</td>\n",
       "      <td>None</td>\n",
       "      <td>&lt;IndividualSurvey xmlns=\"http://schemas.micros...</td>\n",
       "    </tr>\n",
       "    <tr>\n",
       "      <th>...</th>\n",
       "      <td>...</td>\n",
       "      <td>...</td>\n",
       "      <td>...</td>\n",
       "      <td>...</td>\n",
       "      <td>...</td>\n",
       "      <td>...</td>\n",
       "      <td>...</td>\n",
       "      <td>...</td>\n",
       "      <td>...</td>\n",
       "      <td>...</td>\n",
       "      <td>...</td>\n",
       "      <td>...</td>\n",
       "      <td>...</td>\n",
       "      <td>...</td>\n",
       "      <td>...</td>\n",
       "      <td>...</td>\n",
       "      <td>...</td>\n",
       "      <td>...</td>\n",
       "      <td>...</td>\n",
       "      <td>...</td>\n",
       "      <td>...</td>\n",
       "    </tr>\n",
       "    <tr>\n",
       "      <th>758596752</th>\n",
       "      <td>adventure-works\\lynn0</td>\n",
       "      <td>b'\\x95\\xab'</td>\n",
       "      <td>Sales Representative</td>\n",
       "      <td>1977-02-14</td>\n",
       "      <td>S</td>\n",
       "      <td>Female</td>\n",
       "      <td>2013-05-30 00:00:00</td>\n",
       "      <td>1</td>\n",
       "      <td>36</td>\n",
       "      <td>38</td>\n",
       "      <td>...</td>\n",
       "      <td>SP</td>\n",
       "      <td>0</td>\n",
       "      <td>None</td>\n",
       "      <td>Lynn</td>\n",
       "      <td>N</td>\n",
       "      <td>Doe</td>\n",
       "      <td>None</td>\n",
       "      <td>2</td>\n",
       "      <td>None</td>\n",
       "      <td>&lt;IndividualSurvey xmlns=\"http://schemas.micros...</td>\n",
       "    </tr>\n",
       "    <tr>\n",
       "      <th>982310417</th>\n",
       "      <td>adventure-works\\amy0</td>\n",
       "      <td>b'\\x95\\xe0'</td>\n",
       "      <td>European Sales Manager</td>\n",
       "      <td>1957-09-20</td>\n",
       "      <td>M</td>\n",
       "      <td>Female</td>\n",
       "      <td>2012-04-16 00:00:00</td>\n",
       "      <td>1</td>\n",
       "      <td>21</td>\n",
       "      <td>30</td>\n",
       "      <td>...</td>\n",
       "      <td>SP</td>\n",
       "      <td>0</td>\n",
       "      <td>None</td>\n",
       "      <td>Amy</td>\n",
       "      <td>E</td>\n",
       "      <td>Doe</td>\n",
       "      <td>None</td>\n",
       "      <td>1</td>\n",
       "      <td>None</td>\n",
       "      <td>&lt;IndividualSurvey xmlns=\"http://schemas.micros...</td>\n",
       "    </tr>\n",
       "    <tr>\n",
       "      <th>954276278</th>\n",
       "      <td>adventure-works\\rachel0</td>\n",
       "      <td>b'\\x95\\xeb'</td>\n",
       "      <td>Sales Representative</td>\n",
       "      <td>1975-07-09</td>\n",
       "      <td>S</td>\n",
       "      <td>Female</td>\n",
       "      <td>2013-05-30 00:00:00</td>\n",
       "      <td>1</td>\n",
       "      <td>35</td>\n",
       "      <td>37</td>\n",
       "      <td>...</td>\n",
       "      <td>SP</td>\n",
       "      <td>0</td>\n",
       "      <td>None</td>\n",
       "      <td>Rachel</td>\n",
       "      <td>B</td>\n",
       "      <td>Doe</td>\n",
       "      <td>None</td>\n",
       "      <td>0</td>\n",
       "      <td>None</td>\n",
       "      <td>&lt;IndividualSurvey xmlns=\"http://schemas.micros...</td>\n",
       "    </tr>\n",
       "    <tr>\n",
       "      <th>668991357</th>\n",
       "      <td>adventure-works\\jae0</td>\n",
       "      <td>b'\\x95\\xed'</td>\n",
       "      <td>Sales Representative</td>\n",
       "      <td>1968-03-17 00:00:00</td>\n",
       "      <td>M</td>\n",
       "      <td>Female</td>\n",
       "      <td>2012-05-30 00:00:00</td>\n",
       "      <td>1</td>\n",
       "      <td>37</td>\n",
       "      <td>38</td>\n",
       "      <td>...</td>\n",
       "      <td>SP</td>\n",
       "      <td>0</td>\n",
       "      <td>None</td>\n",
       "      <td>Jae</td>\n",
       "      <td>B</td>\n",
       "      <td>Doe</td>\n",
       "      <td>None</td>\n",
       "      <td>0</td>\n",
       "      <td>None</td>\n",
       "      <td>&lt;IndividualSurvey xmlns=\"http://schemas.micros...</td>\n",
       "    </tr>\n",
       "    <tr>\n",
       "      <th>134219713</th>\n",
       "      <td>adventure-works\\ranjit0</td>\n",
       "      <td>b'\\x95\\xef'</td>\n",
       "      <td>Sales Representative</td>\n",
       "      <td>1975-09-30</td>\n",
       "      <td>S</td>\n",
       "      <td>M</td>\n",
       "      <td>2012-05-30 00:00:00</td>\n",
       "      <td>1</td>\n",
       "      <td>34</td>\n",
       "      <td>37</td>\n",
       "      <td>...</td>\n",
       "      <td>SP</td>\n",
       "      <td>0</td>\n",
       "      <td>None</td>\n",
       "      <td>Ranjit</td>\n",
       "      <td>R</td>\n",
       "      <td>Doe</td>\n",
       "      <td>None</td>\n",
       "      <td>0</td>\n",
       "      <td>None</td>\n",
       "      <td>&lt;IndividualSurvey xmlns=\"http://schemas.micros...</td>\n",
       "    </tr>\n",
       "  </tbody>\n",
       "</table>\n",
       "<p>290 rows × 21 columns</p>\n",
       "</div>"
      ],
      "text/plain": [
       "                                   LoginID OrganizationNode  \\\n",
       "NationalIDNumber                                              \n",
       "295847284             adventure-works\\ken0             None   \n",
       "245797967           adventure-works\\terri0             b'X'   \n",
       "509647174         adventure-works\\roberto0         b'Z\\xc0'   \n",
       "112457891             adventure-works\\rob0         b'Z\\xd6'   \n",
       "695256908            adventure-works\\gail0         b'Z\\xda'   \n",
       "...                                    ...              ...   \n",
       "758596752            adventure-works\\lynn0      b'\\x95\\xab'   \n",
       "982310417             adventure-works\\amy0      b'\\x95\\xe0'   \n",
       "954276278          adventure-works\\rachel0      b'\\x95\\xeb'   \n",
       "668991357             adventure-works\\jae0      b'\\x95\\xed'   \n",
       "134219713          adventure-works\\ranjit0      b'\\x95\\xef'   \n",
       "\n",
       "                                       JobTitle            BirthDate  \\\n",
       "NationalIDNumber                                                       \n",
       "295847284               Chief Executive Officer           1969-01-29   \n",
       "245797967         Vice President of Engineering           1971-08-01   \n",
       "509647174                   Engineering Manager  1974-11-12 00:00:00   \n",
       "112457891                                  None           1974-12-23   \n",
       "695256908                       Design Engineer           1952-09-27   \n",
       "...                                         ...                  ...   \n",
       "758596752                  Sales Representative           1977-02-14   \n",
       "982310417                European Sales Manager           1957-09-20   \n",
       "954276278                  Sales Representative           1975-07-09   \n",
       "668991357                  Sales Representative  1968-03-17 00:00:00   \n",
       "134219713                  Sales Representative           1975-09-30   \n",
       "\n",
       "                 MaritalStatus  Gender             HireDate  SalariedFlag  \\\n",
       "NationalIDNumber                                                            \n",
       "295847284                    S       M  1959-01-29 00:00:00             1   \n",
       "245797967                    S  Female  1961-08-01 00:00:00             1   \n",
       "509647174                    M       M  2007-11-11 00:00:00             1   \n",
       "112457891                    S       M  2007-12-05 00:00:00             0   \n",
       "695256908                    M       F  2008-01-06 00:00:00             1   \n",
       "...                        ...     ...                  ...           ...   \n",
       "758596752                    S  Female  2013-05-30 00:00:00             1   \n",
       "982310417                    M  Female  2012-04-16 00:00:00             1   \n",
       "954276278                    S  Female  2013-05-30 00:00:00             1   \n",
       "668991357                    M  Female  2012-05-30 00:00:00             1   \n",
       "134219713                    S       M  2012-05-30 00:00:00             1   \n",
       "\n",
       "                  VacationHours  SickLeaveHours  ...  PersonType NameStyle  \\\n",
       "NationalIDNumber                                 ...                         \n",
       "295847284                    99              69  ...          EM         0   \n",
       "245797967                     1              20  ...          EM         0   \n",
       "509647174                     2              21  ...          EM         0   \n",
       "112457891                    48              80  ...          EM         0   \n",
       "695256908                     5              22  ...          EM         0   \n",
       "...                         ...             ...  ...         ...       ...   \n",
       "758596752                    36              38  ...          SP         0   \n",
       "982310417                    21              30  ...          SP         0   \n",
       "954276278                    35              37  ...          SP         0   \n",
       "668991357                    37              38  ...          SP         0   \n",
       "134219713                    34              37  ...          SP         0   \n",
       "\n",
       "                  Title FirstName MiddleName LastName Suffix EmailPromotion  \\\n",
       "NationalIDNumber                                                              \n",
       "295847284          None       Ken          J      Doe   None              0   \n",
       "245797967          None     Terri        Lee      Doe   None              1   \n",
       "509647174          None   Roberto       None      Doe   None              0   \n",
       "112457891          None       Rob       None      Doe   None              0   \n",
       "695256908           Ms.      Gail          A      Doe   None              0   \n",
       "...                 ...       ...        ...      ...    ...            ...   \n",
       "758596752          None      Lynn          N      Doe   None              2   \n",
       "982310417          None       Amy          E      Doe   None              1   \n",
       "954276278          None    Rachel          B      Doe   None              0   \n",
       "668991357          None       Jae          B      Doe   None              0   \n",
       "134219713          None    Ranjit          R      Doe   None              0   \n",
       "\n",
       "                  AdditionalContactInfo  \\\n",
       "NationalIDNumber                          \n",
       "295847284                          None   \n",
       "245797967                          None   \n",
       "509647174                          None   \n",
       "112457891                          None   \n",
       "695256908                          None   \n",
       "...                                 ...   \n",
       "758596752                          None   \n",
       "982310417                          None   \n",
       "954276278                          None   \n",
       "668991357                          None   \n",
       "134219713                          None   \n",
       "\n",
       "                                                       Demographics  \n",
       "NationalIDNumber                                                     \n",
       "295847284         <IndividualSurvey xmlns=\"http://schemas.micros...  \n",
       "245797967         <IndividualSurvey xmlns=\"http://schemas.micros...  \n",
       "509647174         <IndividualSurvey xmlns=\"http://schemas.micros...  \n",
       "112457891         <IndividualSurvey xmlns=\"http://schemas.micros...  \n",
       "695256908         <IndividualSurvey xmlns=\"http://schemas.micros...  \n",
       "...                                                             ...  \n",
       "758596752         <IndividualSurvey xmlns=\"http://schemas.micros...  \n",
       "982310417         <IndividualSurvey xmlns=\"http://schemas.micros...  \n",
       "954276278         <IndividualSurvey xmlns=\"http://schemas.micros...  \n",
       "668991357         <IndividualSurvey xmlns=\"http://schemas.micros...  \n",
       "134219713         <IndividualSurvey xmlns=\"http://schemas.micros...  \n",
       "\n",
       "[290 rows x 21 columns]"
      ]
     },
     "execution_count": 50,
     "metadata": {},
     "output_type": "execute_result"
    }
   ],
   "source": [
    "# Use the methods you learned in Part One to familiarize yourself with dirty_employee_df\n",
    "# (Create new code cells whenever necessary)\n",
    "dirty_employee_df"
   ]
  },
  {
   "cell_type": "code",
   "execution_count": 51,
   "metadata": {},
   "outputs": [
    {
     "data": {
      "text/plain": [
       "(290, 21)"
      ]
     },
     "execution_count": 51,
     "metadata": {},
     "output_type": "execute_result"
    }
   ],
   "source": [
    "dirty_employee_df.shape"
   ]
  },
  {
   "cell_type": "code",
   "execution_count": 52,
   "metadata": {},
   "outputs": [
    {
     "data": {
      "text/plain": [
       "<bound method DataFrame.notnull of                                    LoginID OrganizationNode  \\\n",
       "NationalIDNumber                                              \n",
       "295847284             adventure-works\\ken0             None   \n",
       "245797967           adventure-works\\terri0             b'X'   \n",
       "509647174         adventure-works\\roberto0         b'Z\\xc0'   \n",
       "112457891             adventure-works\\rob0         b'Z\\xd6'   \n",
       "695256908            adventure-works\\gail0         b'Z\\xda'   \n",
       "...                                    ...              ...   \n",
       "758596752            adventure-works\\lynn0      b'\\x95\\xab'   \n",
       "982310417             adventure-works\\amy0      b'\\x95\\xe0'   \n",
       "954276278          adventure-works\\rachel0      b'\\x95\\xeb'   \n",
       "668991357             adventure-works\\jae0      b'\\x95\\xed'   \n",
       "134219713          adventure-works\\ranjit0      b'\\x95\\xef'   \n",
       "\n",
       "                                       JobTitle            BirthDate  \\\n",
       "NationalIDNumber                                                       \n",
       "295847284               Chief Executive Officer           1969-01-29   \n",
       "245797967         Vice President of Engineering           1971-08-01   \n",
       "509647174                   Engineering Manager  1974-11-12 00:00:00   \n",
       "112457891                                  None           1974-12-23   \n",
       "695256908                       Design Engineer           1952-09-27   \n",
       "...                                         ...                  ...   \n",
       "758596752                  Sales Representative           1977-02-14   \n",
       "982310417                European Sales Manager           1957-09-20   \n",
       "954276278                  Sales Representative           1975-07-09   \n",
       "668991357                  Sales Representative  1968-03-17 00:00:00   \n",
       "134219713                  Sales Representative           1975-09-30   \n",
       "\n",
       "                 MaritalStatus  Gender             HireDate  SalariedFlag  \\\n",
       "NationalIDNumber                                                            \n",
       "295847284                    S       M  1959-01-29 00:00:00             1   \n",
       "245797967                    S  Female  1961-08-01 00:00:00             1   \n",
       "509647174                    M       M  2007-11-11 00:00:00             1   \n",
       "112457891                    S       M  2007-12-05 00:00:00             0   \n",
       "695256908                    M       F  2008-01-06 00:00:00             1   \n",
       "...                        ...     ...                  ...           ...   \n",
       "758596752                    S  Female  2013-05-30 00:00:00             1   \n",
       "982310417                    M  Female  2012-04-16 00:00:00             1   \n",
       "954276278                    S  Female  2013-05-30 00:00:00             1   \n",
       "668991357                    M  Female  2012-05-30 00:00:00             1   \n",
       "134219713                    S       M  2012-05-30 00:00:00             1   \n",
       "\n",
       "                  VacationHours  SickLeaveHours  ...  PersonType NameStyle  \\\n",
       "NationalIDNumber                                 ...                         \n",
       "295847284                    99              69  ...          EM         0   \n",
       "245797967                     1              20  ...          EM         0   \n",
       "509647174                     2              21  ...          EM         0   \n",
       "112457891                    48              80  ...          EM         0   \n",
       "695256908                     5              22  ...          EM         0   \n",
       "...                         ...             ...  ...         ...       ...   \n",
       "758596752                    36              38  ...          SP         0   \n",
       "982310417                    21              30  ...          SP         0   \n",
       "954276278                    35              37  ...          SP         0   \n",
       "668991357                    37              38  ...          SP         0   \n",
       "134219713                    34              37  ...          SP         0   \n",
       "\n",
       "                  Title FirstName MiddleName LastName Suffix EmailPromotion  \\\n",
       "NationalIDNumber                                                              \n",
       "295847284          None       Ken          J      Doe   None              0   \n",
       "245797967          None     Terri        Lee      Doe   None              1   \n",
       "509647174          None   Roberto       None      Doe   None              0   \n",
       "112457891          None       Rob       None      Doe   None              0   \n",
       "695256908           Ms.      Gail          A      Doe   None              0   \n",
       "...                 ...       ...        ...      ...    ...            ...   \n",
       "758596752          None      Lynn          N      Doe   None              2   \n",
       "982310417          None       Amy          E      Doe   None              1   \n",
       "954276278          None    Rachel          B      Doe   None              0   \n",
       "668991357          None       Jae          B      Doe   None              0   \n",
       "134219713          None    Ranjit          R      Doe   None              0   \n",
       "\n",
       "                  AdditionalContactInfo  \\\n",
       "NationalIDNumber                          \n",
       "295847284                          None   \n",
       "245797967                          None   \n",
       "509647174                          None   \n",
       "112457891                          None   \n",
       "695256908                          None   \n",
       "...                                 ...   \n",
       "758596752                          None   \n",
       "982310417                          None   \n",
       "954276278                          None   \n",
       "668991357                          None   \n",
       "134219713                          None   \n",
       "\n",
       "                                                       Demographics  \n",
       "NationalIDNumber                                                     \n",
       "295847284         <IndividualSurvey xmlns=\"http://schemas.micros...  \n",
       "245797967         <IndividualSurvey xmlns=\"http://schemas.micros...  \n",
       "509647174         <IndividualSurvey xmlns=\"http://schemas.micros...  \n",
       "112457891         <IndividualSurvey xmlns=\"http://schemas.micros...  \n",
       "695256908         <IndividualSurvey xmlns=\"http://schemas.micros...  \n",
       "...                                                             ...  \n",
       "758596752         <IndividualSurvey xmlns=\"http://schemas.micros...  \n",
       "982310417         <IndividualSurvey xmlns=\"http://schemas.micros...  \n",
       "954276278         <IndividualSurvey xmlns=\"http://schemas.micros...  \n",
       "668991357         <IndividualSurvey xmlns=\"http://schemas.micros...  \n",
       "134219713         <IndividualSurvey xmlns=\"http://schemas.micros...  \n",
       "\n",
       "[290 rows x 21 columns]>"
      ]
     },
     "execution_count": 52,
     "metadata": {},
     "output_type": "execute_result"
    }
   ],
   "source": [
    "dirty_employee_df.notnull"
   ]
  },
  {
   "cell_type": "markdown",
   "metadata": {
    "tags": [
     "specification"
    ]
   },
   "source": [
    "Incomplete data can take many different forms. If you look at the present data set, you will notice `None` values in various attributes. "
   ]
  },
  {
   "cell_type": "code",
   "execution_count": 53,
   "metadata": {
    "tags": [
     "specification"
    ]
   },
   "outputs": [
    {
     "data": {
      "text/html": [
       "<div>\n",
       "<style scoped>\n",
       "    .dataframe tbody tr th:only-of-type {\n",
       "        vertical-align: middle;\n",
       "    }\n",
       "\n",
       "    .dataframe tbody tr th {\n",
       "        vertical-align: top;\n",
       "    }\n",
       "\n",
       "    .dataframe thead th {\n",
       "        text-align: right;\n",
       "    }\n",
       "</style>\n",
       "<table border=\"1\" class=\"dataframe\">\n",
       "  <thead>\n",
       "    <tr style=\"text-align: right;\">\n",
       "      <th></th>\n",
       "      <th>OrganizationNode</th>\n",
       "      <th>JobTitle</th>\n",
       "      <th>Title</th>\n",
       "      <th>MiddleName</th>\n",
       "      <th>Suffix</th>\n",
       "      <th>AdditionalContactInfo</th>\n",
       "    </tr>\n",
       "    <tr>\n",
       "      <th>NationalIDNumber</th>\n",
       "      <th></th>\n",
       "      <th></th>\n",
       "      <th></th>\n",
       "      <th></th>\n",
       "      <th></th>\n",
       "      <th></th>\n",
       "    </tr>\n",
       "  </thead>\n",
       "  <tbody>\n",
       "    <tr>\n",
       "      <th>295847284</th>\n",
       "      <td>None</td>\n",
       "      <td>Chief Executive Officer</td>\n",
       "      <td>None</td>\n",
       "      <td>J</td>\n",
       "      <td>None</td>\n",
       "      <td>None</td>\n",
       "    </tr>\n",
       "    <tr>\n",
       "      <th>245797967</th>\n",
       "      <td>b'X'</td>\n",
       "      <td>Vice President of Engineering</td>\n",
       "      <td>None</td>\n",
       "      <td>Lee</td>\n",
       "      <td>None</td>\n",
       "      <td>None</td>\n",
       "    </tr>\n",
       "    <tr>\n",
       "      <th>509647174</th>\n",
       "      <td>b'Z\\xc0'</td>\n",
       "      <td>Engineering Manager</td>\n",
       "      <td>None</td>\n",
       "      <td>None</td>\n",
       "      <td>None</td>\n",
       "      <td>None</td>\n",
       "    </tr>\n",
       "    <tr>\n",
       "      <th>112457891</th>\n",
       "      <td>b'Z\\xd6'</td>\n",
       "      <td>None</td>\n",
       "      <td>None</td>\n",
       "      <td>None</td>\n",
       "      <td>None</td>\n",
       "      <td>None</td>\n",
       "    </tr>\n",
       "    <tr>\n",
       "      <th>695256908</th>\n",
       "      <td>b'Z\\xda'</td>\n",
       "      <td>Design Engineer</td>\n",
       "      <td>Ms.</td>\n",
       "      <td>A</td>\n",
       "      <td>None</td>\n",
       "      <td>None</td>\n",
       "    </tr>\n",
       "    <tr>\n",
       "      <th>998320692</th>\n",
       "      <td>b'Z\\xde'</td>\n",
       "      <td>Design Engineer</td>\n",
       "      <td>Mr.</td>\n",
       "      <td>H</td>\n",
       "      <td>None</td>\n",
       "      <td>None</td>\n",
       "    </tr>\n",
       "    <tr>\n",
       "      <th>134969118</th>\n",
       "      <td>b'Z\\xe1'</td>\n",
       "      <td>Research and Development Manager</td>\n",
       "      <td>None</td>\n",
       "      <td>A</td>\n",
       "      <td>None</td>\n",
       "      <td>None</td>\n",
       "    </tr>\n",
       "    <tr>\n",
       "      <th>811994146</th>\n",
       "      <td>b'Z\\xe1X'</td>\n",
       "      <td>Research and Development Engineer</td>\n",
       "      <td>None</td>\n",
       "      <td>L</td>\n",
       "      <td>None</td>\n",
       "      <td>None</td>\n",
       "    </tr>\n",
       "    <tr>\n",
       "      <th>658797903</th>\n",
       "      <td>b'Z\\xe1h'</td>\n",
       "      <td>Research and Development Engineer</td>\n",
       "      <td>None</td>\n",
       "      <td>N</td>\n",
       "      <td>None</td>\n",
       "      <td>None</td>\n",
       "    </tr>\n",
       "    <tr>\n",
       "      <th>879342154</th>\n",
       "      <td>b'Z\\xe1x'</td>\n",
       "      <td>Research and Development Manager</td>\n",
       "      <td>None</td>\n",
       "      <td>None</td>\n",
       "      <td>None</td>\n",
       "      <td>None</td>\n",
       "    </tr>\n",
       "    <tr>\n",
       "      <th>974026903</th>\n",
       "      <td>b'Z\\xe3'</td>\n",
       "      <td>Senior Tool Designer</td>\n",
       "      <td>None</td>\n",
       "      <td>V</td>\n",
       "      <td>None</td>\n",
       "      <td>None</td>\n",
       "    </tr>\n",
       "    <tr>\n",
       "      <th>480168528</th>\n",
       "      <td>b'Z\\xe3X'</td>\n",
       "      <td>Tool Designer</td>\n",
       "      <td>None</td>\n",
       "      <td>B</td>\n",
       "      <td>None</td>\n",
       "      <td>None</td>\n",
       "    </tr>\n",
       "    <tr>\n",
       "      <th>486228782</th>\n",
       "      <td>b'Z\\xe3h'</td>\n",
       "      <td>Tool Designer</td>\n",
       "      <td>Ms.</td>\n",
       "      <td>M</td>\n",
       "      <td>None</td>\n",
       "      <td>None</td>\n",
       "    </tr>\n",
       "    <tr>\n",
       "      <th>42487730</th>\n",
       "      <td>b'Z\\xe5'</td>\n",
       "      <td>Senior Design Engineer</td>\n",
       "      <td>None</td>\n",
       "      <td>I</td>\n",
       "      <td>None</td>\n",
       "      <td>None</td>\n",
       "    </tr>\n",
       "    <tr>\n",
       "      <th>56920285</th>\n",
       "      <td>b'Z\\xe7'</td>\n",
       "      <td>Design Engineer</td>\n",
       "      <td>None</td>\n",
       "      <td>B</td>\n",
       "      <td>None</td>\n",
       "      <td>None</td>\n",
       "    </tr>\n",
       "    <tr>\n",
       "      <th>24756624</th>\n",
       "      <td>b'h'</td>\n",
       "      <td>Marketing Manager</td>\n",
       "      <td>None</td>\n",
       "      <td>M</td>\n",
       "      <td>None</td>\n",
       "      <td>None</td>\n",
       "    </tr>\n",
       "    <tr>\n",
       "      <th>253022876</th>\n",
       "      <td>b'j\\xc0'</td>\n",
       "      <td>Marketing Assistant</td>\n",
       "      <td>None</td>\n",
       "      <td>F</td>\n",
       "      <td>None</td>\n",
       "      <td>None</td>\n",
       "    </tr>\n",
       "    <tr>\n",
       "      <th>222969461</th>\n",
       "      <td>b'k@'</td>\n",
       "      <td>None</td>\n",
       "      <td>None</td>\n",
       "      <td>L</td>\n",
       "      <td>None</td>\n",
       "      <td>None</td>\n",
       "    </tr>\n",
       "    <tr>\n",
       "      <th>52541318</th>\n",
       "      <td>b'k\\xc0'</td>\n",
       "      <td>Marketing Assistant</td>\n",
       "      <td>None</td>\n",
       "      <td>A</td>\n",
       "      <td>None</td>\n",
       "      <td>None</td>\n",
       "    </tr>\n",
       "    <tr>\n",
       "      <th>323403273</th>\n",
       "      <td>b'l '</td>\n",
       "      <td>Marketing Assistant</td>\n",
       "      <td>None</td>\n",
       "      <td>M</td>\n",
       "      <td>None</td>\n",
       "      <td>None</td>\n",
       "    </tr>\n",
       "    <tr>\n",
       "      <th>243322160</th>\n",
       "      <td>b'l`'</td>\n",
       "      <td>Marketing Specialist</td>\n",
       "      <td>None</td>\n",
       "      <td>J</td>\n",
       "      <td>None</td>\n",
       "      <td>None</td>\n",
       "    </tr>\n",
       "    <tr>\n",
       "      <th>95958330</th>\n",
       "      <td>b'l\\xa0'</td>\n",
       "      <td>Marketing Specialist</td>\n",
       "      <td>None</td>\n",
       "      <td>E</td>\n",
       "      <td>None</td>\n",
       "      <td>None</td>\n",
       "    </tr>\n",
       "    <tr>\n",
       "      <th>767955365</th>\n",
       "      <td>b'l\\xe0'</td>\n",
       "      <td>Marketing Specialist</td>\n",
       "      <td>None</td>\n",
       "      <td>E</td>\n",
       "      <td>None</td>\n",
       "      <td>None</td>\n",
       "    </tr>\n",
       "    <tr>\n",
       "      <th>72636981</th>\n",
       "      <td>b'm\\x10'</td>\n",
       "      <td>None</td>\n",
       "      <td>Ms.</td>\n",
       "      <td>A</td>\n",
       "      <td>None</td>\n",
       "      <td>None</td>\n",
       "    </tr>\n",
       "    <tr>\n",
       "      <th>519899904</th>\n",
       "      <td>b'x'</td>\n",
       "      <td>Vice President of Production</td>\n",
       "      <td>None</td>\n",
       "      <td>R</td>\n",
       "      <td>None</td>\n",
       "      <td>None</td>\n",
       "    </tr>\n",
       "  </tbody>\n",
       "</table>\n",
       "</div>"
      ],
      "text/plain": [
       "                 OrganizationNode                           JobTitle Title  \\\n",
       "NationalIDNumber                                                             \n",
       "295847284                    None            Chief Executive Officer  None   \n",
       "245797967                    b'X'      Vice President of Engineering  None   \n",
       "509647174                b'Z\\xc0'                Engineering Manager  None   \n",
       "112457891                b'Z\\xd6'                               None  None   \n",
       "695256908                b'Z\\xda'                    Design Engineer   Ms.   \n",
       "998320692                b'Z\\xde'                    Design Engineer   Mr.   \n",
       "134969118                b'Z\\xe1'   Research and Development Manager  None   \n",
       "811994146               b'Z\\xe1X'  Research and Development Engineer  None   \n",
       "658797903               b'Z\\xe1h'  Research and Development Engineer  None   \n",
       "879342154               b'Z\\xe1x'   Research and Development Manager  None   \n",
       "974026903                b'Z\\xe3'               Senior Tool Designer  None   \n",
       "480168528               b'Z\\xe3X'                      Tool Designer  None   \n",
       "486228782               b'Z\\xe3h'                      Tool Designer   Ms.   \n",
       "42487730                 b'Z\\xe5'             Senior Design Engineer  None   \n",
       "56920285                 b'Z\\xe7'                    Design Engineer  None   \n",
       "24756624                     b'h'                  Marketing Manager  None   \n",
       "253022876                b'j\\xc0'                Marketing Assistant  None   \n",
       "222969461                   b'k@'                               None  None   \n",
       "52541318                 b'k\\xc0'                Marketing Assistant  None   \n",
       "323403273                   b'l '                Marketing Assistant  None   \n",
       "243322160                   b'l`'               Marketing Specialist  None   \n",
       "95958330                 b'l\\xa0'               Marketing Specialist  None   \n",
       "767955365                b'l\\xe0'               Marketing Specialist  None   \n",
       "72636981                 b'm\\x10'                               None   Ms.   \n",
       "519899904                    b'x'       Vice President of Production  None   \n",
       "\n",
       "                 MiddleName Suffix AdditionalContactInfo  \n",
       "NationalIDNumber                                          \n",
       "295847284                 J   None                  None  \n",
       "245797967               Lee   None                  None  \n",
       "509647174              None   None                  None  \n",
       "112457891              None   None                  None  \n",
       "695256908                 A   None                  None  \n",
       "998320692                 H   None                  None  \n",
       "134969118                 A   None                  None  \n",
       "811994146                 L   None                  None  \n",
       "658797903                 N   None                  None  \n",
       "879342154              None   None                  None  \n",
       "974026903                 V   None                  None  \n",
       "480168528                 B   None                  None  \n",
       "486228782                 M   None                  None  \n",
       "42487730                  I   None                  None  \n",
       "56920285                  B   None                  None  \n",
       "24756624                  M   None                  None  \n",
       "253022876                 F   None                  None  \n",
       "222969461                 L   None                  None  \n",
       "52541318                  A   None                  None  \n",
       "323403273                 M   None                  None  \n",
       "243322160                 J   None                  None  \n",
       "95958330                  E   None                  None  \n",
       "767955365                 E   None                  None  \n",
       "72636981                  A   None                  None  \n",
       "519899904                 R   None                  None  "
      ]
     },
     "execution_count": 53,
     "metadata": {},
     "output_type": "execute_result"
    }
   ],
   "source": [
    "# Print the columns containing at least one `None`\n",
    "dirty_employee_df[\n",
    "    [\n",
    "        \"OrganizationNode\",\n",
    "        \"JobTitle\",\n",
    "        \"Title\",\n",
    "        \"MiddleName\",\n",
    "        \"Suffix\",\n",
    "        \"AdditionalContactInfo\",\n",
    "    ]\n",
    "].head(25)"
   ]
  },
  {
   "cell_type": "markdown",
   "metadata": {
    "tags": [
     "specification"
    ]
   },
   "source": [
    "Not every `None` equates to missing data. Sometimes it is simply the correct information that the attribute value is \"nothing\". This can be seen in the six attributes presented. \n",
    "\n",
    "<div class=\"alert alert-block alert-info\">\n",
    "\n",
    "**Task 2:**\n",
    "\n",
    "For each of the attributes at hand, consider whether the `None` values indicate incomplete information, or if `None` is justified.\n",
    "</div>"
   ]
  },
  {
   "cell_type": "markdown",
   "metadata": {
    "tags": [
     "student"
    ]
   },
   "source": [
    "Organization Node, Job Title and Title: None values indicate incomplete info"
   ]
  },
  {
   "cell_type": "markdown",
   "metadata": {
    "tags": [
     "specification"
    ]
   },
   "source": [
    "Noisy data, i.e. small measurement inaccuracies, are difficult to detect in the context of such an exercise. However, it is almost certain that the present data set does not contain any noisy data. \n",
    "\n",
    "<div class=\"alert alert-block alert-info\">\n",
    "\n",
    "**Task 3:**\n",
    "    \n",
    "Consider why noisy data is unlikely to be included in `dirty_employee_df`.\n",
    "</div>"
   ]
  },
  {
   "cell_type": "markdown",
   "metadata": {
    "tags": [
     "student"
    ]
   },
   "source": []
  },
  {
   "cell_type": "markdown",
   "metadata": {
    "tags": [
     "specification"
    ]
   },
   "source": [
    "\n",
    "Examples of inconsistencies of this data set can be found in the attributes `Gender`, `BirthDate`, and `HireDate`. \n",
    "\n",
    "<div class=\"alert alert-block alert-info\">\n",
    "\n",
    "**Task 4:**\n",
    "    \n",
    "Print the head of the attributes `Gender`, `BirthDate`, and `HireDate`.\n",
    "</div>"
   ]
  },
  {
   "cell_type": "code",
   "execution_count": 54,
   "metadata": {
    "tags": [
     "student"
    ]
   },
   "outputs": [
    {
     "data": {
      "text/html": [
       "<div>\n",
       "<style scoped>\n",
       "    .dataframe tbody tr th:only-of-type {\n",
       "        vertical-align: middle;\n",
       "    }\n",
       "\n",
       "    .dataframe tbody tr th {\n",
       "        vertical-align: top;\n",
       "    }\n",
       "\n",
       "    .dataframe thead th {\n",
       "        text-align: right;\n",
       "    }\n",
       "</style>\n",
       "<table border=\"1\" class=\"dataframe\">\n",
       "  <thead>\n",
       "    <tr style=\"text-align: right;\">\n",
       "      <th></th>\n",
       "      <th>Gender</th>\n",
       "      <th>BirthDate</th>\n",
       "      <th>HireDate</th>\n",
       "    </tr>\n",
       "    <tr>\n",
       "      <th>NationalIDNumber</th>\n",
       "      <th></th>\n",
       "      <th></th>\n",
       "      <th></th>\n",
       "    </tr>\n",
       "  </thead>\n",
       "  <tbody>\n",
       "    <tr>\n",
       "      <th>295847284</th>\n",
       "      <td>M</td>\n",
       "      <td>1969-01-29</td>\n",
       "      <td>1959-01-29 00:00:00</td>\n",
       "    </tr>\n",
       "    <tr>\n",
       "      <th>245797967</th>\n",
       "      <td>Female</td>\n",
       "      <td>1971-08-01</td>\n",
       "      <td>1961-08-01 00:00:00</td>\n",
       "    </tr>\n",
       "    <tr>\n",
       "      <th>509647174</th>\n",
       "      <td>M</td>\n",
       "      <td>1974-11-12 00:00:00</td>\n",
       "      <td>2007-11-11 00:00:00</td>\n",
       "    </tr>\n",
       "    <tr>\n",
       "      <th>112457891</th>\n",
       "      <td>M</td>\n",
       "      <td>1974-12-23</td>\n",
       "      <td>2007-12-05 00:00:00</td>\n",
       "    </tr>\n",
       "    <tr>\n",
       "      <th>695256908</th>\n",
       "      <td>F</td>\n",
       "      <td>1952-09-27</td>\n",
       "      <td>2008-01-06 00:00:00</td>\n",
       "    </tr>\n",
       "  </tbody>\n",
       "</table>\n",
       "</div>"
      ],
      "text/plain": [
       "                  Gender            BirthDate             HireDate\n",
       "NationalIDNumber                                                  \n",
       "295847284              M           1969-01-29  1959-01-29 00:00:00\n",
       "245797967         Female           1971-08-01  1961-08-01 00:00:00\n",
       "509647174              M  1974-11-12 00:00:00  2007-11-11 00:00:00\n",
       "112457891              M           1974-12-23  2007-12-05 00:00:00\n",
       "695256908              F           1952-09-27  2008-01-06 00:00:00"
      ]
     },
     "execution_count": 54,
     "metadata": {},
     "output_type": "execute_result"
    }
   ],
   "source": [
    "# Print the head of \"Gender\", \"BirthDate\", and \"HireDate\"\n",
    "dirty_employee_df[['Gender', 'BirthDate', 'HireDate']].head()"
   ]
  },
  {
   "cell_type": "markdown",
   "metadata": {
    "tags": [
     "specification"
    ]
   },
   "source": [
    "<div class=\"alert alert-block alert-info\">\n",
    "\n",
    "**Task 5:**\n",
    "    \n",
    "Consider what inconsistencies are in the `Gender` attribute.\n",
    "</div>"
   ]
  },
  {
   "cell_type": "markdown",
   "metadata": {
    "tags": [
     "student"
    ]
   },
   "source": [
    "Women were represented by 'F' and 'Female'"
   ]
  },
  {
   "cell_type": "markdown",
   "metadata": {
    "tags": [
     "specification"
    ]
   },
   "source": [
    "<div class=\"alert alert-block alert-info\">\n",
    "\n",
    "**Task 6:**\n",
    "    \n",
    "Consider what inconsistencies are in the `BirthDate` attribute.</div>"
   ]
  },
  {
   "cell_type": "markdown",
   "metadata": {
    "tags": [
     "student"
    ]
   },
   "source": [
    "Some of them includes day time some not. Not standart"
   ]
  },
  {
   "cell_type": "markdown",
   "metadata": {
    "tags": [
     "specification"
    ]
   },
   "source": [
    "<div class=\"alert alert-block alert-info\">\n",
    "\n",
    "**Task 7:**\n",
    "    \n",
    "Consider what inconsistencies are in the `HireDate` attribute. (Hint: Consider the attribute in conjunction with the other two attributes)</div>"
   ]
  },
  {
   "cell_type": "markdown",
   "metadata": {
    "tags": [
     "student"
    ]
   },
   "source": [
    "Hire date can not be earlier than birth date."
   ]
  },
  {
   "cell_type": "markdown",
   "metadata": {
    "tags": [
     "specification"
    ]
   },
   "source": [
    "Errors in numerical values and in the special outlier are sometimes not quite detectable at a glance. Fortunately, we have already learned methods in Part One that we can now use.\n",
    "\n",
    "First, let's look at the `SickLeaveHours` attribute. Does it contain outliers or errors?\n",
    "\n",
    "<div class=\"alert alert-block alert-info\">\n",
    "\n",
    "**Task 8:**\n",
    "    \n",
    "Use a boxplot diagram to graphically analyze whether `SickLeaveHours` contains Outliers.\n",
    "</div>"
   ]
  },
  {
   "cell_type": "code",
   "execution_count": 55,
   "metadata": {
    "tags": [
     "student"
    ]
   },
   "outputs": [
    {
     "data": {
      "text/plain": [
       "<AxesSubplot: >"
      ]
     },
     "execution_count": 55,
     "metadata": {},
     "output_type": "execute_result"
    },
    {
     "data": {
      "image/png": "[encoded data removed]",
      "text/plain": [
       "<Figure size 640x480 with 1 Axes>"
      ]
     },
     "metadata": {},
     "output_type": "display_data"
    }
   ],
   "source": [
    "# Draw a boxplot diagram for \"SickLeaveHours\"\n",
    "dirty_employee_df.boxplot(column=['SickLeaveHours'])"
   ]
  },
  {
   "cell_type": "markdown",
   "metadata": {
    "tags": [
     "specification"
    ]
   },
   "source": [
    "<div class=\"alert alert-block alert-info\">\n",
    "\n",
    "**Task 9:**\n",
    "    \n",
    "Think about a way to find out which tuple contains the outlier in `SickLeaveHours`.\n",
    "</div>"
   ]
  },
  {
   "cell_type": "code",
   "execution_count": 56,
   "metadata": {
    "tags": [
     "student"
    ]
   },
   "outputs": [
    {
     "data": {
      "text/plain": [
       "NationalIDNumber\n",
       "879342154    2306\n",
       "112457891      80\n",
       "295847284      69\n",
       "294148271      69\n",
       "826454897      69\n",
       "             ... \n",
       "370581729      20\n",
       "184188301      20\n",
       "872923042      20\n",
       "674171828      20\n",
       "245797967      20\n",
       "Name: SickLeaveHours, Length: 290, dtype: int64"
      ]
     },
     "execution_count": 56,
     "metadata": {},
     "output_type": "execute_result"
    }
   ],
   "source": [
    "# Output the tuple containing the outlier       \n",
    "dirty_employee_df['SickLeaveHours'].sort_values(ascending=False)"
   ]
  },
  {
   "cell_type": "markdown",
   "metadata": {
    "tags": [
     "specification"
    ]
   },
   "source": [
    "Additionally, let's take a look at `VacationHours`.\n",
    "\n",
    "<div class=\"alert alert-block alert-info\">\n",
    "\n",
    "**Task 10:**\n",
    "    \n",
    "Use a boxplot diagram to graphically analyze whether `VacationHours` contains outliers.\n",
    "</div>"
   ]
  },
  {
   "cell_type": "code",
   "execution_count": 57,
   "metadata": {},
   "outputs": [],
   "source": [
    "%matplotlib inline\n"
   ]
  },
  {
   "cell_type": "code",
   "execution_count": 58,
   "metadata": {
    "tags": [
     "student"
    ]
   },
   "outputs": [
    {
     "data": {
      "text/plain": [
       "<AxesSubplot: >"
      ]
     },
     "execution_count": 58,
     "metadata": {},
     "output_type": "execute_result"
    },
    {
     "data": {
      "image/png": "[encoded data removed]",
      "text/plain": [
       "<Figure size 640x480 with 1 Axes>"
      ]
     },
     "metadata": {},
     "output_type": "display_data"
    }
   ],
   "source": [
    "# Draw a boxplot diagram for \"VacationHours\"\n",
    "dirty_employee_df.boxplot(column=['VacationHours'])"
   ]
  },
  {
   "cell_type": "code",
   "execution_count": 59,
   "metadata": {},
   "outputs": [
    {
     "data": {
      "text/plain": [
       "count    290.000000\n",
       "mean      50.420690\n",
       "std       29.017634\n",
       "min      -12.000000\n",
       "25%       26.000000\n",
       "50%       51.000000\n",
       "75%       75.000000\n",
       "max       99.000000\n",
       "Name: VacationHours, dtype: float64"
      ]
     },
     "execution_count": 59,
     "metadata": {},
     "output_type": "execute_result"
    }
   ],
   "source": [
    "dirty_employee_df['VacationHours'].describe()"
   ]
  },
  {
   "cell_type": "markdown",
   "metadata": {
    "tags": [
     "specification"
    ]
   },
   "source": [
    "<div class=\"alert alert-block alert-info\">\n",
    "\n",
    "**Task 11:**\n",
    "    \n",
    "Even though the boxplot diagram does not show any outliers, it clearly indicates an error in `VacationHours`. Which error?\n",
    "</div>"
   ]
  },
  {
   "cell_type": "markdown",
   "metadata": {
    "tags": [
     "student"
    ]
   },
   "source": [
    "Vacation Hours can not be negative"
   ]
  },
  {
   "cell_type": "markdown",
   "metadata": {
    "tags": [
     "specification"
    ]
   },
   "source": [
    "<div class=\"alert alert-block alert-info\">\n",
    "\n",
    "**Task 12:**\n",
    "    \n",
    "Output the affected tuples.\n",
    "</div>"
   ]
  },
  {
   "cell_type": "code",
   "execution_count": 60,
   "metadata": {
    "tags": [
     "student"
    ]
   },
   "outputs": [
    {
     "data": {
      "text/html": [
       "<div>\n",
       "<style scoped>\n",
       "    .dataframe tbody tr th:only-of-type {\n",
       "        vertical-align: middle;\n",
       "    }\n",
       "\n",
       "    .dataframe tbody tr th {\n",
       "        vertical-align: top;\n",
       "    }\n",
       "\n",
       "    .dataframe thead th {\n",
       "        text-align: right;\n",
       "    }\n",
       "</style>\n",
       "<table border=\"1\" class=\"dataframe\">\n",
       "  <thead>\n",
       "    <tr style=\"text-align: right;\">\n",
       "      <th></th>\n",
       "      <th>LoginID</th>\n",
       "      <th>OrganizationNode</th>\n",
       "      <th>JobTitle</th>\n",
       "      <th>BirthDate</th>\n",
       "      <th>MaritalStatus</th>\n",
       "      <th>Gender</th>\n",
       "      <th>HireDate</th>\n",
       "      <th>SalariedFlag</th>\n",
       "      <th>VacationHours</th>\n",
       "      <th>SickLeaveHours</th>\n",
       "      <th>...</th>\n",
       "      <th>PersonType</th>\n",
       "      <th>NameStyle</th>\n",
       "      <th>Title</th>\n",
       "      <th>FirstName</th>\n",
       "      <th>MiddleName</th>\n",
       "      <th>LastName</th>\n",
       "      <th>Suffix</th>\n",
       "      <th>EmailPromotion</th>\n",
       "      <th>AdditionalContactInfo</th>\n",
       "      <th>Demographics</th>\n",
       "    </tr>\n",
       "    <tr>\n",
       "      <th>NationalIDNumber</th>\n",
       "      <th></th>\n",
       "      <th></th>\n",
       "      <th></th>\n",
       "      <th></th>\n",
       "      <th></th>\n",
       "      <th></th>\n",
       "      <th></th>\n",
       "      <th></th>\n",
       "      <th></th>\n",
       "      <th></th>\n",
       "      <th></th>\n",
       "      <th></th>\n",
       "      <th></th>\n",
       "      <th></th>\n",
       "      <th></th>\n",
       "      <th></th>\n",
       "      <th></th>\n",
       "      <th></th>\n",
       "      <th></th>\n",
       "      <th></th>\n",
       "      <th></th>\n",
       "    </tr>\n",
       "  </thead>\n",
       "  <tbody>\n",
       "    <tr>\n",
       "      <th>243322160</th>\n",
       "      <td>adventure-works\\terry0</td>\n",
       "      <td>b'l`'</td>\n",
       "      <td>Marketing Specialist</td>\n",
       "      <td>1986-02-04</td>\n",
       "      <td>M</td>\n",
       "      <td>M</td>\n",
       "      <td>1976-02-04 00:00:00</td>\n",
       "      <td>0</td>\n",
       "      <td>-12</td>\n",
       "      <td>42</td>\n",
       "      <td>...</td>\n",
       "      <td>EM</td>\n",
       "      <td>0</td>\n",
       "      <td>None</td>\n",
       "      <td>Terry</td>\n",
       "      <td>J</td>\n",
       "      <td>Doe</td>\n",
       "      <td>None</td>\n",
       "      <td>2</td>\n",
       "      <td>None</td>\n",
       "      <td>&lt;IndividualSurvey xmlns=\"http://schemas.micros...</td>\n",
       "    </tr>\n",
       "  </tbody>\n",
       "</table>\n",
       "<p>1 rows × 21 columns</p>\n",
       "</div>"
      ],
      "text/plain": [
       "                                 LoginID OrganizationNode  \\\n",
       "NationalIDNumber                                            \n",
       "243322160         adventure-works\\terry0            b'l`'   \n",
       "\n",
       "                              JobTitle   BirthDate MaritalStatus Gender  \\\n",
       "NationalIDNumber                                                          \n",
       "243322160         Marketing Specialist  1986-02-04             M      M   \n",
       "\n",
       "                             HireDate  SalariedFlag  VacationHours  \\\n",
       "NationalIDNumber                                                     \n",
       "243322160         1976-02-04 00:00:00             0            -12   \n",
       "\n",
       "                  SickLeaveHours  ...  PersonType NameStyle  Title FirstName  \\\n",
       "NationalIDNumber                  ...                                          \n",
       "243322160                     42  ...          EM         0   None     Terry   \n",
       "\n",
       "                 MiddleName LastName Suffix EmailPromotion  \\\n",
       "NationalIDNumber                                             \n",
       "243322160                 J      Doe   None              2   \n",
       "\n",
       "                  AdditionalContactInfo  \\\n",
       "NationalIDNumber                          \n",
       "243322160                          None   \n",
       "\n",
       "                                                       Demographics  \n",
       "NationalIDNumber                                                     \n",
       "243322160         <IndividualSurvey xmlns=\"http://schemas.micros...  \n",
       "\n",
       "[1 rows x 21 columns]"
      ]
     },
     "execution_count": 60,
     "metadata": {},
     "output_type": "execute_result"
    }
   ],
   "source": [
    "# Output the tuple(s) containing the error\n",
    "dirty_employee_df[dirty_employee_df['VacationHours']<0]"
   ]
  },
  {
   "cell_type": "markdown",
   "metadata": {
    "tags": [
     "specification"
    ]
   },
   "source": [
    "There is also an intentional change to the original data in the `dirty_employee_df`. It can be found in either the `MaritalStatus`, `SalariedFlag`, `FirstName`, or `LastName` attribute.\n",
    "\n",
    "<div class=\"alert alert-block alert-info\">\n",
    "\n",
    "**Task 13:** \n",
    "    \n",
    "Again, independently use your learned skills to search the attributes `MaritalStatus`, `SalariedFlag`, `FirstName`, and `LastName` for the intentional change.\n",
    "</div>"
   ]
  },
  {
   "cell_type": "code",
   "execution_count": 61,
   "metadata": {
    "tags": [
     "student"
    ]
   },
   "outputs": [
    {
     "data": {
      "text/html": [
       "<div>\n",
       "<style scoped>\n",
       "    .dataframe tbody tr th:only-of-type {\n",
       "        vertical-align: middle;\n",
       "    }\n",
       "\n",
       "    .dataframe tbody tr th {\n",
       "        vertical-align: top;\n",
       "    }\n",
       "\n",
       "    .dataframe thead th {\n",
       "        text-align: right;\n",
       "    }\n",
       "</style>\n",
       "<table border=\"1\" class=\"dataframe\">\n",
       "  <thead>\n",
       "    <tr style=\"text-align: right;\">\n",
       "      <th></th>\n",
       "      <th>MaritalStatus</th>\n",
       "      <th>SalariedFlag</th>\n",
       "      <th>FirstName</th>\n",
       "      <th>LastName</th>\n",
       "    </tr>\n",
       "    <tr>\n",
       "      <th>NationalIDNumber</th>\n",
       "      <th></th>\n",
       "      <th></th>\n",
       "      <th></th>\n",
       "      <th></th>\n",
       "    </tr>\n",
       "  </thead>\n",
       "  <tbody>\n",
       "    <tr>\n",
       "      <th>295847284</th>\n",
       "      <td>S</td>\n",
       "      <td>1</td>\n",
       "      <td>Ken</td>\n",
       "      <td>Doe</td>\n",
       "    </tr>\n",
       "    <tr>\n",
       "      <th>245797967</th>\n",
       "      <td>S</td>\n",
       "      <td>1</td>\n",
       "      <td>Terri</td>\n",
       "      <td>Doe</td>\n",
       "    </tr>\n",
       "    <tr>\n",
       "      <th>509647174</th>\n",
       "      <td>M</td>\n",
       "      <td>1</td>\n",
       "      <td>Roberto</td>\n",
       "      <td>Doe</td>\n",
       "    </tr>\n",
       "    <tr>\n",
       "      <th>112457891</th>\n",
       "      <td>S</td>\n",
       "      <td>0</td>\n",
       "      <td>Rob</td>\n",
       "      <td>Doe</td>\n",
       "    </tr>\n",
       "    <tr>\n",
       "      <th>695256908</th>\n",
       "      <td>M</td>\n",
       "      <td>1</td>\n",
       "      <td>Gail</td>\n",
       "      <td>Doe</td>\n",
       "    </tr>\n",
       "    <tr>\n",
       "      <th>...</th>\n",
       "      <td>...</td>\n",
       "      <td>...</td>\n",
       "      <td>...</td>\n",
       "      <td>...</td>\n",
       "    </tr>\n",
       "    <tr>\n",
       "      <th>758596752</th>\n",
       "      <td>S</td>\n",
       "      <td>1</td>\n",
       "      <td>Lynn</td>\n",
       "      <td>Doe</td>\n",
       "    </tr>\n",
       "    <tr>\n",
       "      <th>982310417</th>\n",
       "      <td>M</td>\n",
       "      <td>1</td>\n",
       "      <td>Amy</td>\n",
       "      <td>Doe</td>\n",
       "    </tr>\n",
       "    <tr>\n",
       "      <th>954276278</th>\n",
       "      <td>S</td>\n",
       "      <td>1</td>\n",
       "      <td>Rachel</td>\n",
       "      <td>Doe</td>\n",
       "    </tr>\n",
       "    <tr>\n",
       "      <th>668991357</th>\n",
       "      <td>M</td>\n",
       "      <td>1</td>\n",
       "      <td>Jae</td>\n",
       "      <td>Doe</td>\n",
       "    </tr>\n",
       "    <tr>\n",
       "      <th>134219713</th>\n",
       "      <td>S</td>\n",
       "      <td>1</td>\n",
       "      <td>Ranjit</td>\n",
       "      <td>Doe</td>\n",
       "    </tr>\n",
       "  </tbody>\n",
       "</table>\n",
       "<p>290 rows × 4 columns</p>\n",
       "</div>"
      ],
      "text/plain": [
       "                 MaritalStatus  SalariedFlag FirstName LastName\n",
       "NationalIDNumber                                               \n",
       "295847284                    S             1       Ken      Doe\n",
       "245797967                    S             1     Terri      Doe\n",
       "509647174                    M             1   Roberto      Doe\n",
       "112457891                    S             0       Rob      Doe\n",
       "695256908                    M             1      Gail      Doe\n",
       "...                        ...           ...       ...      ...\n",
       "758596752                    S             1      Lynn      Doe\n",
       "982310417                    M             1       Amy      Doe\n",
       "954276278                    S             1    Rachel      Doe\n",
       "668991357                    M             1       Jae      Doe\n",
       "134219713                    S             1    Ranjit      Doe\n",
       "\n",
       "[290 rows x 4 columns]"
      ]
     },
     "execution_count": 61,
     "metadata": {},
     "output_type": "execute_result"
    }
   ],
   "source": [
    "# Search for the intentional change\n",
    "dirty_employee_df[['MaritalStatus', 'SalariedFlag', 'FirstName', 'LastName']]"
   ]
  },
  {
   "cell_type": "markdown",
   "metadata": {
    "tags": [
     "specification"
    ]
   },
   "source": [
    "<div class=\"alert alert-block alert-info\">\n",
    "\n",
    "**Task 14:**\n",
    "    \n",
    "In which of the attributes is the intentional error to be found.\n",
    "</div>"
   ]
  },
  {
   "cell_type": "markdown",
   "metadata": {
    "tags": [
     "student"
    ]
   },
   "source": [
    "The attribute with the intentional error: ?\n",
    "Lastname everything is Doe\n"
   ]
  },
  {
   "cell_type": "markdown",
   "metadata": {
    "tags": [
     "specification"
    ]
   },
   "source": [
    "<div class=\"alert alert-block alert-info\">\n",
    "\n",
    "**Task 15:**\n",
    "    \n",
    "Why do you think is this error intentional?\n",
    "</div>"
   ]
  },
  {
   "cell_type": "markdown",
   "metadata": {
    "tags": [
     "student"
    ]
   },
   "source": []
  },
  {
   "cell_type": "markdown",
   "metadata": {
    "tags": [
     "specification"
    ]
   },
   "source": [
    "The mere detection of dirty data is, of course, only a first step in the data science process. While it is a best case scenario to correct dirty data step by step once it has been identified, this is often a lengthy and difficult process. \n",
    "\n",
    "In our example only inconsistencies in `Gender` and `BirthDate` can be quickly fixed.\n",
    "\n",
    "<div class=\"alert alert-block alert-info\">\n",
    "\n",
    "**Task 16:**\n",
    "    \n",
    "Replace all occurrences of `Female` with `F` and all occurrences of `Male` with `M` in the `Gender` attribute of the `dirty_employee_df`. (Help: [pandas documentation](https://pandas.pydata.org/docs/reference/api/pandas.DataFrame.replace.html))\n",
    "</div>"
   ]
  },
  {
   "cell_type": "code",
   "execution_count": 62,
   "metadata": {},
   "outputs": [
    {
     "data": {
      "text/plain": [
       "(22, 21)"
      ]
     },
     "execution_count": 62,
     "metadata": {},
     "output_type": "execute_result"
    }
   ],
   "source": [
    "dirty_employee_df[dirty_employee_df['Gender']=='Male'].shape"
   ]
  },
  {
   "cell_type": "code",
   "execution_count": 63,
   "metadata": {},
   "outputs": [],
   "source": [
    "dirty_employee_df.replace({'Gender':{'Female':'F', 'Male': 'M'}}, inplace=True)"
   ]
  },
  {
   "cell_type": "code",
   "execution_count": 64,
   "metadata": {
    "tags": [
     "student"
    ]
   },
   "outputs": [],
   "source": [
    "# Replace \"Female\" and \"Male\" values in \"Gender\"\n",
    "dirty_employee_df[dirty_employee_df['Gender']=='Female']='F'\n",
    "dirty_employee_df[dirty_employee_df['Gender']=='Male']='M'"
   ]
  },
  {
   "cell_type": "code",
   "execution_count": 65,
   "metadata": {},
   "outputs": [
    {
     "data": {
      "text/plain": [
       "(0, 21)"
      ]
     },
     "execution_count": 65,
     "metadata": {},
     "output_type": "execute_result"
    }
   ],
   "source": [
    "dirty_employee_df[dirty_employee_df['Gender']=='Male'].shape"
   ]
  },
  {
   "cell_type": "markdown",
   "metadata": {
    "tags": [
     "specification"
    ]
   },
   "source": [
    "<div class=\"alert alert-block alert-info\">\n",
    "\n",
    "**Task 17:**\n",
    "    \n",
    "Delete the suffix `00:00:00` in the `BirthDate` attribute. (Help: [pandas documentation](https://pandas.pydata.org/docs/reference/api/pandas.DataFrame.replace.html) - Hint: You may want to use a regular expression.)\n",
    "</div>"
   ]
  },
  {
   "cell_type": "code",
   "execution_count": 66,
   "metadata": {
    "tags": [
     "student"
    ]
   },
   "outputs": [
    {
     "data": {
      "text/plain": [
       "NationalIDNumber\n",
       "295847284             1969-01-29\n",
       "245797967             1971-08-01\n",
       "509647174    1974-11-12 00:00:00\n",
       "112457891             1974-12-23\n",
       "695256908             1952-09-27\n",
       "                    ...         \n",
       "758596752             1977-02-14\n",
       "982310417             1957-09-20\n",
       "954276278             1975-07-09\n",
       "668991357    1968-03-17 00:00:00\n",
       "134219713             1975-09-30\n",
       "Name: BirthDate, Length: 290, dtype: object"
      ]
     },
     "execution_count": 66,
     "metadata": {},
     "output_type": "execute_result"
    }
   ],
   "source": [
    "# Delete the suffix 00:00:00 in BirthDate\n",
    "dirty_employee_df['BirthDate']"
   ]
  },
  {
   "cell_type": "code",
   "execution_count": 67,
   "metadata": {},
   "outputs": [],
   "source": [
    "dirty_employee_df.replace({'BirthDate': r\"\\ 00:00:00\"}, {'BirthDate': \"\"}, regex = True, inplace=True)"
   ]
  },
  {
   "cell_type": "code",
   "execution_count": 68,
   "metadata": {},
   "outputs": [],
   "source": [
    "dirty_employee_df['BirthDate']=dirty_employee_df['BirthDate'].str.replace(' 00:00:00', '')\n"
   ]
  },
  {
   "cell_type": "code",
   "execution_count": 69,
   "metadata": {},
   "outputs": [
    {
     "data": {
      "text/plain": [
       "NationalIDNumber\n",
       "295847284    1969-01-29\n",
       "245797967    1971-08-01\n",
       "509647174    1974-11-12\n",
       "112457891    1974-12-23\n",
       "695256908    1952-09-27\n",
       "998320692    1959-03-11\n",
       "134969118    1987-02-24\n",
       "811994146    1986-06-05\n",
       "658797903    1979-01-21\n",
       "879342154    1984-11-30\n",
       "974026903    1978-01-17\n",
       "480168528    1959-07-29\n",
       "486228782    1989-05-28\n",
       "42487730     1979-06-16\n",
       "56920285     1961-05-02\n",
       "24756624     1975-03-19\n",
       "253022876    1987-05-03\n",
       "222969461    1978-03-06\n",
       "52541318     1978-01-29\n",
       "323403273    1975-03-17\n",
       "Name: BirthDate, dtype: object"
      ]
     },
     "execution_count": 69,
     "metadata": {},
     "output_type": "execute_result"
    }
   ],
   "source": [
    "dirty_employee_df['BirthDate'].head(20)"
   ]
  },
  {
   "cell_type": "markdown",
   "metadata": {
    "tags": [
     "specification"
    ]
   },
   "source": [
    "If only individual tuples contain an error/outlier and these cannot be manually fixed, the most efficient approach is often to simply remove these tuples from the dataset. \n",
    "\n",
    "For example this would apply to the tuples with `NationalIDNumber` 243322160 and 879342154 in the `dirty_employee_df`.\n",
    "\n",
    "<div class=\"alert alert-block alert-info\">\n",
    "\n",
    "**Task 18:**\n",
    "    \n",
    "Delete the tuples with `NationalIDNumber` 243322160 and 879342154. (Help: [pandas documentation](https://pandas.pydata.org/docs/reference/api/pandas.DataFrame.drop.html))\n",
    "</div>"
   ]
  },
  {
   "cell_type": "code",
   "execution_count": 70,
   "metadata": {},
   "outputs": [
    {
     "data": {
      "text/plain": [
       "Index(['LoginID', 'OrganizationNode', 'JobTitle', 'BirthDate', 'MaritalStatus',\n",
       "       'Gender', 'HireDate', 'SalariedFlag', 'VacationHours', 'SickLeaveHours',\n",
       "       'CurrentFlag', 'PersonType', 'NameStyle', 'Title', 'FirstName',\n",
       "       'MiddleName', 'LastName', 'Suffix', 'EmailPromotion',\n",
       "       'AdditionalContactInfo', 'Demographics'],\n",
       "      dtype='object')"
      ]
     },
     "execution_count": 70,
     "metadata": {},
     "output_type": "execute_result"
    }
   ],
   "source": [
    "dirty_employee_df.columns"
   ]
  },
  {
   "cell_type": "code",
   "execution_count": 71,
   "metadata": {},
   "outputs": [
    {
     "data": {
      "text/plain": [
       "Index(['295847284', '245797967', '509647174', '112457891', '695256908',\n",
       "       '998320692', '134969118', '811994146', '658797903', '879342154',\n",
       "       ...\n",
       "       '139397894', '399771412', '987554265', '90836195', '481044938',\n",
       "       '758596752', '982310417', '954276278', '668991357', '134219713'],\n",
       "      dtype='object', name='NationalIDNumber', length=290)"
      ]
     },
     "execution_count": 71,
     "metadata": {},
     "output_type": "execute_result"
    }
   ],
   "source": [
    "dirty_employee_df.index"
   ]
  },
  {
   "cell_type": "code",
   "execution_count": 72,
   "metadata": {},
   "outputs": [
    {
     "data": {
      "text/plain": [
       "True"
      ]
     },
     "execution_count": 72,
     "metadata": {},
     "output_type": "execute_result"
    }
   ],
   "source": [
    "'243322160' in dirty_employee_df.index"
   ]
  },
  {
   "cell_type": "code",
   "execution_count": 73,
   "metadata": {},
   "outputs": [
    {
     "data": {
      "text/plain": [
       "True"
      ]
     },
     "execution_count": 73,
     "metadata": {},
     "output_type": "execute_result"
    }
   ],
   "source": [
    "'879342154' in dirty_employee_df.index"
   ]
  },
  {
   "cell_type": "code",
   "execution_count": 74,
   "metadata": {
    "tags": [
     "student"
    ]
   },
   "outputs": [],
   "source": [
    "# Delete the tuples with NationalIDNumber 243322160 and 879342154\n",
    "dirty_employee_df = dirty_employee_df.drop(index='243322160')"
   ]
  },
  {
   "cell_type": "code",
   "execution_count": 75,
   "metadata": {},
   "outputs": [],
   "source": [
    "dirty_employee_df = dirty_employee_df.drop(index='879342154')"
   ]
  },
  {
   "cell_type": "code",
   "execution_count": 76,
   "metadata": {},
   "outputs": [
    {
     "data": {
      "text/plain": [
       "False"
      ]
     },
     "execution_count": 76,
     "metadata": {},
     "output_type": "execute_result"
    }
   ],
   "source": [
    "'243322160' in dirty_employee_df.index"
   ]
  },
  {
   "cell_type": "code",
   "execution_count": 77,
   "metadata": {},
   "outputs": [
    {
     "data": {
      "text/plain": [
       "False"
      ]
     },
     "execution_count": 77,
     "metadata": {},
     "output_type": "execute_result"
    }
   ],
   "source": [
    "'879342154' in dirty_employee_df.index"
   ]
  },
  {
   "cell_type": "markdown",
   "metadata": {
    "tags": [
     "specification"
    ]
   },
   "source": [
    "Even for attributes that do not contain any information, it usually makes more sense to remove them from the data set. \n",
    "\n",
    "In this example this is the case with the attribute `LastName`.\n",
    "\n",
    "<div class=\"alert alert-block alert-info\">\n",
    "\n",
    "**Task 19:**\n",
    "    \n",
    "Delete the attribute `LastName`. (Help: [pandas documentation](https://pandas.pydata.org/docs/reference/api/pandas.DataFrame.drop.html))\n",
    "</div>"
   ]
  },
  {
   "cell_type": "code",
   "execution_count": 78,
   "metadata": {
    "tags": [
     "student"
    ]
   },
   "outputs": [],
   "source": [
    "# Delete the attribute LastName\n",
    "dirty_employee_df = dirty_employee_df.drop('LastName', axis='columns')"
   ]
  },
  {
   "cell_type": "code",
   "execution_count": 79,
   "metadata": {},
   "outputs": [
    {
     "data": {
      "text/plain": [
       "Index(['LoginID', 'OrganizationNode', 'JobTitle', 'BirthDate', 'MaritalStatus',\n",
       "       'Gender', 'HireDate', 'SalariedFlag', 'VacationHours', 'SickLeaveHours',\n",
       "       'CurrentFlag', 'PersonType', 'NameStyle', 'Title', 'FirstName',\n",
       "       'MiddleName', 'Suffix', 'EmailPromotion', 'AdditionalContactInfo',\n",
       "       'Demographics'],\n",
       "      dtype='object')"
      ]
     },
     "execution_count": 79,
     "metadata": {},
     "output_type": "execute_result"
    }
   ],
   "source": [
    "dirty_employee_df.columns"
   ]
  },
  {
   "cell_type": "markdown",
   "metadata": {
    "tags": [
     "specification"
    ]
   },
   "source": [
    "In the context of data integration, we mainly looked at correlation in the lecture. Calculation of this depends on the type of data."
   ]
  },
  {
   "cell_type": "markdown",
   "metadata": {
    "tags": [
     "specification"
    ]
   },
   "source": [
    "One of the two data types we looked at in more detail in the lecture is nominal data. This describes all data that that is used to label variables without providing any quantitative value.\n",
    "\n",
    "The first combination of nominal attributes we will look at in this section are `Gender` and `CurrentFlag`. We start by displaying the contingency table for these attributes.\n",
    "\n",
    "<div class=\"alert alert-block alert-info\">\n",
    "\n",
    "**Task 20:**\n",
    "    \n",
    "Use the pandas function `crosstab()` to create a contingency table for the attributes `Gender` and `CurrentFlag`. Show the subtotals one time and once not. (Help: [pandas documentation](https://pandas.pydata.org/docs/reference/api/pandas.crosstab.html))\n",
    "</div>"
   ]
  },
  {
   "cell_type": "code",
   "execution_count": 80,
   "metadata": {},
   "outputs": [
    {
     "data": {
      "text/plain": [
       "NationalIDNumber\n",
       "295847284    1\n",
       "245797967    1\n",
       "509647174    1\n",
       "112457891    1\n",
       "695256908    1\n",
       "            ..\n",
       "758596752    1\n",
       "982310417    1\n",
       "954276278    1\n",
       "668991357    1\n",
       "134219713    1\n",
       "Name: CurrentFlag, Length: 288, dtype: int64"
      ]
     },
     "execution_count": 80,
     "metadata": {},
     "output_type": "execute_result"
    }
   ],
   "source": [
    "dirty_employee_df['CurrentFlag']"
   ]
  },
  {
   "cell_type": "code",
   "execution_count": 81,
   "metadata": {
    "tags": [
     "student"
    ]
   },
   "outputs": [
    {
     "data": {
      "text/html": [
       "<div>\n",
       "<style scoped>\n",
       "    .dataframe tbody tr th:only-of-type {\n",
       "        vertical-align: middle;\n",
       "    }\n",
       "\n",
       "    .dataframe tbody tr th {\n",
       "        vertical-align: top;\n",
       "    }\n",
       "\n",
       "    .dataframe thead th {\n",
       "        text-align: right;\n",
       "    }\n",
       "</style>\n",
       "<table border=\"1\" class=\"dataframe\">\n",
       "  <thead>\n",
       "    <tr style=\"text-align: right;\">\n",
       "      <th>CurrentFlag</th>\n",
       "      <th>0</th>\n",
       "      <th>1</th>\n",
       "      <th>All</th>\n",
       "    </tr>\n",
       "    <tr>\n",
       "      <th>Gender</th>\n",
       "      <th></th>\n",
       "      <th></th>\n",
       "      <th></th>\n",
       "    </tr>\n",
       "  </thead>\n",
       "  <tbody>\n",
       "    <tr>\n",
       "      <th>F</th>\n",
       "      <td>1</td>\n",
       "      <td>83</td>\n",
       "      <td>84</td>\n",
       "    </tr>\n",
       "    <tr>\n",
       "      <th>M</th>\n",
       "      <td>1</td>\n",
       "      <td>203</td>\n",
       "      <td>204</td>\n",
       "    </tr>\n",
       "    <tr>\n",
       "      <th>All</th>\n",
       "      <td>2</td>\n",
       "      <td>286</td>\n",
       "      <td>288</td>\n",
       "    </tr>\n",
       "  </tbody>\n",
       "</table>\n",
       "</div>"
      ],
      "text/plain": [
       "CurrentFlag  0    1  All\n",
       "Gender                  \n",
       "F            1   83   84\n",
       "M            1  203  204\n",
       "All          2  286  288"
      ]
     },
     "execution_count": 81,
     "metadata": {},
     "output_type": "execute_result"
    }
   ],
   "source": [
    "# Display a contingency table without subtotals\n",
    "pd.crosstab(dirty_employee_df['Gender'], dirty_employee_df['CurrentFlag'], margins=True)"
   ]
  },
  {
   "cell_type": "code",
   "execution_count": 92,
   "metadata": {
    "tags": [
     "student"
    ]
   },
   "outputs": [
    {
     "data": {
      "text/html": [
       "<div>\n",
       "<style scoped>\n",
       "    .dataframe tbody tr th:only-of-type {\n",
       "        vertical-align: middle;\n",
       "    }\n",
       "\n",
       "    .dataframe tbody tr th {\n",
       "        vertical-align: top;\n",
       "    }\n",
       "\n",
       "    .dataframe thead th {\n",
       "        text-align: right;\n",
       "    }\n",
       "</style>\n",
       "<table border=\"1\" class=\"dataframe\">\n",
       "  <thead>\n",
       "    <tr style=\"text-align: right;\">\n",
       "      <th>CurrentFlag</th>\n",
       "      <th>0</th>\n",
       "      <th>1</th>\n",
       "    </tr>\n",
       "    <tr>\n",
       "      <th>Gender</th>\n",
       "      <th></th>\n",
       "      <th></th>\n",
       "    </tr>\n",
       "  </thead>\n",
       "  <tbody>\n",
       "    <tr>\n",
       "      <th>F</th>\n",
       "      <td>1</td>\n",
       "      <td>83</td>\n",
       "    </tr>\n",
       "    <tr>\n",
       "      <th>M</th>\n",
       "      <td>1</td>\n",
       "      <td>203</td>\n",
       "    </tr>\n",
       "  </tbody>\n",
       "</table>\n",
       "</div>"
      ],
      "text/plain": [
       "CurrentFlag  0    1\n",
       "Gender             \n",
       "F            1   83\n",
       "M            1  203"
      ]
     },
     "execution_count": 92,
     "metadata": {},
     "output_type": "execute_result"
    }
   ],
   "source": [
    "# Display a contingency table with subtotals\n",
    "observed = pd.crosstab(dirty_employee_df['Gender'], dirty_employee_df['CurrentFlag'])\n",
    "observed"
   ]
  },
  {
   "cell_type": "markdown",
   "metadata": {
    "tags": [
     "specification"
    ]
   },
   "source": [
    "The disadvantage of this contingency table is, of course, that only the observed quantities are displayed. For the calculation of the correlation, however, the expected quantities are also important. These can be calculated for example with the function `expected_freq()` from SciPy.\n",
    "\n",
    "<div class=\"alert alert-block alert-info\">\n",
    "\n",
    "**Task 21:**\n",
    "    \n",
    "Use `expected_freq()` to output the expected quantities for the attributes `Gender` and `CurrentFlag`. (Help: [SciPy documentation](https://docs.scipy.org/doc/scipy/reference/generated/scipy.stats.contingency.expected_freq.html#scipy.stats.contingency.expected_freq))\n",
    "</div>"
   ]
  },
  {
   "cell_type": "code",
   "execution_count": 93,
   "metadata": {
    "tags": [
     "student"
    ]
   },
   "outputs": [
    {
     "data": {
      "text/plain": [
       "array([[  0.58333333,  83.41666667],\n",
       "       [  1.41666667, 202.58333333]])"
      ]
     },
     "execution_count": 93,
     "metadata": {},
     "output_type": "execute_result"
    }
   ],
   "source": [
    "# Display the expected quantities\n",
    "import numpy as np\n",
    "#observed = np.array([[dirty_employee_df['CurrentFlag'], dirty_employee_df['Gender']]])\n",
    "scipy.stats.contingency.expected_freq(observed)"
   ]
  },
  {
   "cell_type": "markdown",
   "metadata": {
    "tags": [
     "specification"
    ]
   },
   "source": [
    "One can see that both the expected and observed values are quite close indicating a small correlation. \n",
    "\n",
    "However, in the lecture, the Chi-squared test was presented as a method to validate this more accurately.\n",
    "\n",
    "<div class=\"alert alert-block alert-info\">\n",
    "\n",
    "**Task 22:**\n",
    "    \n",
    "Use the function `chi2_contingency` from SciPy to determine the correlation between `Gender` and `CurrentFlag`. (Help: [SciPy documentation](https://docs.scipy.org/doc/scipy/reference/generated/scipy.stats.chi2_contingency.html#scipy.stats.chi2_contingency))\n",
    "</div>"
   ]
  },
  {
   "cell_type": "code",
   "execution_count": 94,
   "metadata": {
    "tags": [
     "student"
    ]
   },
   "outputs": [
    {
     "data": {
      "text/plain": [
       "Chi2ContingencyResult(statistic=0.0, pvalue=1.0, dof=1, expected_freq=array([[  0.58333333,  83.41666667],\n",
       "       [  1.41666667, 202.58333333]]))"
      ]
     },
     "execution_count": 94,
     "metadata": {},
     "output_type": "execute_result"
    }
   ],
   "source": [
    "# Compute chi-squared for \"Gender\" and \"CurrentFlag\"\n",
    "scipy.stats.chi2_contingency(observed)"
   ]
  },
  {
   "cell_type": "markdown",
   "metadata": {
    "tags": [
     "specification"
    ]
   },
   "source": [
    "<div class=\"alert alert-block alert-info\">\n",
    "\n",
    "**Task 23:**\n",
    "    \n",
    "Find out what the different values in the above output of `chi2_contingency` stand for and describe how to interpret them in this case.\n",
    "</div>"
   ]
  },
  {
   "cell_type": "markdown",
   "metadata": {
    "tags": [
     "student"
    ]
   },
   "source": [
    "Chi2 deki statistic ne kadar düsük olursa o kadar bagimsiz demek. \n",
    "pvalue nun da normalde 0.05 den kücük olmasi gerekir. Büyük oldugu icin bu sonuctan pek emin degiliz.\n",
    "dof = degree of freedom\n",
    "\n",
    "observed value ile expected value yakin oldugu icin birbirinden bagimsiz diye degerlendiriyoruz"
   ]
  },
  {
   "cell_type": "markdown",
   "metadata": {
    "tags": [
     "specification"
    ]
   },
   "source": [
    "Second, let's look at the `Gender` and `SalariedFlag` attributes.\n",
    "\n",
    "<div class=\"alert alert-block alert-info\">\n",
    "\n",
    "**Task 24:**\n",
    "    \n",
    "Using the methods learned above, calculate Chi-squared for `Gender` and `SalariedFlag`.\n",
    "</div>"
   ]
  },
  {
   "cell_type": "code",
   "execution_count": 95,
   "metadata": {},
   "outputs": [
    {
     "data": {
      "text/html": [
       "<div>\n",
       "<style scoped>\n",
       "    .dataframe tbody tr th:only-of-type {\n",
       "        vertical-align: middle;\n",
       "    }\n",
       "\n",
       "    .dataframe tbody tr th {\n",
       "        vertical-align: top;\n",
       "    }\n",
       "\n",
       "    .dataframe thead th {\n",
       "        text-align: right;\n",
       "    }\n",
       "</style>\n",
       "<table border=\"1\" class=\"dataframe\">\n",
       "  <thead>\n",
       "    <tr style=\"text-align: right;\">\n",
       "      <th>SalariedFlag</th>\n",
       "      <th>0</th>\n",
       "      <th>1</th>\n",
       "    </tr>\n",
       "    <tr>\n",
       "      <th>Gender</th>\n",
       "      <th></th>\n",
       "      <th></th>\n",
       "    </tr>\n",
       "  </thead>\n",
       "  <tbody>\n",
       "    <tr>\n",
       "      <th>F</th>\n",
       "      <td>63</td>\n",
       "      <td>21</td>\n",
       "    </tr>\n",
       "    <tr>\n",
       "      <th>M</th>\n",
       "      <td>174</td>\n",
       "      <td>30</td>\n",
       "    </tr>\n",
       "  </tbody>\n",
       "</table>\n",
       "</div>"
      ],
      "text/plain": [
       "SalariedFlag    0   1\n",
       "Gender               \n",
       "F              63  21\n",
       "M             174  30"
      ]
     },
     "execution_count": 95,
     "metadata": {},
     "output_type": "execute_result"
    }
   ],
   "source": [
    "pd.crosstab(dirty_employee_df['Gender'], dirty_employee_df['SalariedFlag'])"
   ]
  },
  {
   "cell_type": "code",
   "execution_count": 96,
   "metadata": {
    "tags": [
     "student"
    ]
   },
   "outputs": [
    {
     "data": {
      "text/plain": [
       "Chi2ContingencyResult(statistic=3.649173742467948, pvalue=0.05609703457814885, dof=1, expected_freq=array([[ 69.125,  14.875],\n",
       "       [167.875,  36.125]]))"
      ]
     },
     "execution_count": 96,
     "metadata": {},
     "output_type": "execute_result"
    }
   ],
   "source": [
    "# Compute chi-squared for \"Gender\" and \"SalariedFlag\"\n",
    "observed2 = pd.crosstab(dirty_employee_df['Gender'], dirty_employee_df['SalariedFlag'])\n",
    "scipy.stats.chi2_contingency(observed2)"
   ]
  },
  {
   "cell_type": "markdown",
   "metadata": {
    "tags": [
     "specification"
    ]
   },
   "source": [
    "<div class=\"alert alert-block alert-info\">\n",
    "\n",
    "**Task 25:**\n",
    "    \n",
    "Interpret the chi-squared for `Gender` and `SalariedFlag`.\n",
    "</div>"
   ]
  },
  {
   "cell_type": "markdown",
   "metadata": {
    "tags": [
     "student"
    ]
   },
   "source": [
    "Bu ikisinde correlation var diyebiliriz"
   ]
  },
  {
   "cell_type": "markdown",
   "metadata": {
    "tags": [
     "specification"
    ]
   },
   "source": [
    "The other data type we have considered in the context of correlation is the numeric data type. Here, it is suitable to look at the connection between `VacationHours` and `SickLeaveHours`. \n",
    "\n",
    "A method of graphical analysis of correlation in numerical data should already be known from Exercise 1: \n",
    "\n",
    "<div class=\"alert alert-block alert-info\">\n",
    "\n",
    "**Task 26:**\n",
    "    \n",
    "Draw a scatter plot regarding `VacationHours` and `SickLeaveHours`.\n",
    "</div>"
   ]
  },
  {
   "cell_type": "code",
   "execution_count": 87,
   "metadata": {},
   "outputs": [
    {
     "data": {
      "text/html": [
       "<div>\n",
       "<style scoped>\n",
       "    .dataframe tbody tr th:only-of-type {\n",
       "        vertical-align: middle;\n",
       "    }\n",
       "\n",
       "    .dataframe tbody tr th {\n",
       "        vertical-align: top;\n",
       "    }\n",
       "\n",
       "    .dataframe thead th {\n",
       "        text-align: right;\n",
       "    }\n",
       "</style>\n",
       "<table border=\"1\" class=\"dataframe\">\n",
       "  <thead>\n",
       "    <tr style=\"text-align: right;\">\n",
       "      <th></th>\n",
       "      <th>VacationHours</th>\n",
       "      <th>SickLeaveHours</th>\n",
       "    </tr>\n",
       "    <tr>\n",
       "      <th>NationalIDNumber</th>\n",
       "      <th></th>\n",
       "      <th></th>\n",
       "    </tr>\n",
       "  </thead>\n",
       "  <tbody>\n",
       "    <tr>\n",
       "      <th>295847284</th>\n",
       "      <td>99</td>\n",
       "      <td>69</td>\n",
       "    </tr>\n",
       "    <tr>\n",
       "      <th>245797967</th>\n",
       "      <td>1</td>\n",
       "      <td>20</td>\n",
       "    </tr>\n",
       "    <tr>\n",
       "      <th>509647174</th>\n",
       "      <td>2</td>\n",
       "      <td>21</td>\n",
       "    </tr>\n",
       "    <tr>\n",
       "      <th>112457891</th>\n",
       "      <td>48</td>\n",
       "      <td>80</td>\n",
       "    </tr>\n",
       "    <tr>\n",
       "      <th>695256908</th>\n",
       "      <td>5</td>\n",
       "      <td>22</td>\n",
       "    </tr>\n",
       "    <tr>\n",
       "      <th>...</th>\n",
       "      <td>...</td>\n",
       "      <td>...</td>\n",
       "    </tr>\n",
       "    <tr>\n",
       "      <th>758596752</th>\n",
       "      <td>36</td>\n",
       "      <td>38</td>\n",
       "    </tr>\n",
       "    <tr>\n",
       "      <th>982310417</th>\n",
       "      <td>21</td>\n",
       "      <td>30</td>\n",
       "    </tr>\n",
       "    <tr>\n",
       "      <th>954276278</th>\n",
       "      <td>35</td>\n",
       "      <td>37</td>\n",
       "    </tr>\n",
       "    <tr>\n",
       "      <th>668991357</th>\n",
       "      <td>37</td>\n",
       "      <td>38</td>\n",
       "    </tr>\n",
       "    <tr>\n",
       "      <th>134219713</th>\n",
       "      <td>34</td>\n",
       "      <td>37</td>\n",
       "    </tr>\n",
       "  </tbody>\n",
       "</table>\n",
       "<p>288 rows × 2 columns</p>\n",
       "</div>"
      ],
      "text/plain": [
       "                  VacationHours  SickLeaveHours\n",
       "NationalIDNumber                               \n",
       "295847284                    99              69\n",
       "245797967                     1              20\n",
       "509647174                     2              21\n",
       "112457891                    48              80\n",
       "695256908                     5              22\n",
       "...                         ...             ...\n",
       "758596752                    36              38\n",
       "982310417                    21              30\n",
       "954276278                    35              37\n",
       "668991357                    37              38\n",
       "134219713                    34              37\n",
       "\n",
       "[288 rows x 2 columns]"
      ]
     },
     "execution_count": 87,
     "metadata": {},
     "output_type": "execute_result"
    }
   ],
   "source": [
    "dirty_employee_df[['VacationHours', 'SickLeaveHours']]"
   ]
  },
  {
   "cell_type": "code",
   "execution_count": 88,
   "metadata": {
    "tags": [
     "student"
    ]
   },
   "outputs": [
    {
     "data": {
      "text/plain": [
       "<AxesSubplot: xlabel='VacationHours', ylabel='SickLeaveHours'>"
      ]
     },
     "execution_count": 88,
     "metadata": {},
     "output_type": "execute_result"
    },
    {
     "data": {
      "image/png": "[encoded data removed]",
      "text/plain": [
       "<Figure size 640x480 with 1 Axes>"
      ]
     },
     "metadata": {},
     "output_type": "display_data"
    }
   ],
   "source": [
    "# Draw a scatter plot regarding \"VacationHours\" and \"SickLeaveHours\"\n",
    "dirty_employee_df.plot.scatter(x='VacationHours', y='SickLeaveHours', c='DarkBlue')"
   ]
  },
  {
   "cell_type": "markdown",
   "metadata": {
    "tags": [
     "specification"
    ]
   },
   "source": [
    "However, what was not part of the method in Exercise 1 is the interpretation of this diagram.\n",
    "\n",
    "<div class=\"alert alert-block alert-info\">\n",
    "\n",
    "**Task 27:**\n",
    "    \n",
    "Interpret the scatter plot regarding `VacationHours` and `SickLeaveHours`.\n",
    "</div>"
   ]
  },
  {
   "cell_type": "markdown",
   "metadata": {
    "tags": [
     "student"
    ]
   },
   "source": [
    "They are positively corelated"
   ]
  },
  {
   "cell_type": "markdown",
   "metadata": {
    "tags": [
     "specification"
    ]
   },
   "source": [
    "We can, of course, evaluate this graphical analysis mathematically. In the lecture we used Pearson's product-moment coefficient for this purpose.\n",
    "\n",
    "<div class=\"alert alert-block alert-info\">\n",
    "\n",
    "**Task 28:**\n",
    "    \n",
    "Compute pearson's product-moment coefficient for `VacationHours` and `SickLeaveHours`. Use SciPy's `pearsonr()` function. (Help: [SciPy documentation](https://docs.scipy.org/doc/scipy/reference/generated/scipy.stats.pearsonr.html))\n",
    "</div>"
   ]
  },
  {
   "cell_type": "code",
   "execution_count": 98,
   "metadata": {
    "tags": [
     "student"
    ]
   },
   "outputs": [
    {
     "data": {
      "text/plain": [
       "PearsonRResult(statistic=0.9890127285205375, pvalue=1.7004450292185053e-239)"
      ]
     },
     "execution_count": 98,
     "metadata": {},
     "output_type": "execute_result"
    }
   ],
   "source": [
    "# Compute pearson's product-moment coefficient for \"VacationHours\" and \"SickLeaveHours\"\n",
    "scipy.stats.pearsonr(x=dirty_employee_df['VacationHours'], y=dirty_employee_df['SickLeaveHours'])"
   ]
  },
  {
   "cell_type": "markdown",
   "metadata": {
    "tags": [
     "specification"
    ]
   },
   "source": [
    "<div class=\"alert alert-block alert-info\">\n",
    "\n",
    "**Task 29:**\n",
    "    \n",
    "Find out what the different values in the above output of `pearsonr` stand for and describe how to interpret them in this case.\n",
    "</div>"
   ]
  },
  {
   "cell_type": "markdown",
   "metadata": {
    "tags": [
     "student"
    ]
   },
   "source": [
    "Pearson -1 ile +1 arasi deger verir. bizim statistik 1 e yakin oldugu icin corelated.\n",
    "pvalue umuz da 0 a yakin oldugu icin sonuctan emin sayiliriz. (sonunda -239 var)"
   ]
  }
 ],
 "metadata": {
  "celltoolbar": "Tags",
  "interpreter": {
   "hash": "916dbcbb3f70747c44a77c7bcd40155683ae19c65e1c03b4aa3499c5328201f1"
  },
  "kernelspec": {
   "display_name": "Python 3 (ipykernel)",
   "language": "python",
   "name": "python3"
  },
  "language_info": {
   "codemirror_mode": {
    "name": "ipython",
    "version": 3
   },
   "file_extension": ".py",
   "mimetype": "text/x-python",
   "name": "python",
   "nbconvert_exporter": "python",
   "pygments_lexer": "ipython3",
   "version": "3.10.13"
  }
 },
 "nbformat": 4,
 "nbformat_minor": 4
}
